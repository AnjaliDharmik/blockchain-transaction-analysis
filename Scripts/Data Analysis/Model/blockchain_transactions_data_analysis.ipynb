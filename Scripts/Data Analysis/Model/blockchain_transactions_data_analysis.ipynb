{
  "nbformat": 4,
  "nbformat_minor": 0,
  "metadata": {
    "colab": {
      "provenance": []
    },
    "kernelspec": {
      "name": "python3",
      "display_name": "Python 3"
    },
    "language_info": {
      "name": "python"
    }
  },
  "cells": [
    {
      "cell_type": "markdown",
      "source": [
        "# Import Required Libraries\n",
        "\n"
      ],
      "metadata": {
        "id": "acnD68PNfUyb"
      }
    },
    {
      "cell_type": "code",
      "source": [
        "import numpy as np\n",
        "import pandas as pd\n",
        "import matplotlib.pyplot as plt\n",
        "import seaborn as sns\n",
        "\n",
        "import os\n",
        "import json\n",
        "\n",
        "import warnings\n",
        "warnings.filterwarnings(\"ignore\")"
      ],
      "metadata": {
        "id": "LT-FaqzQfUZK"
      },
      "execution_count": null,
      "outputs": []
    },
    {
      "cell_type": "markdown",
      "source": [
        "# Load Dataset"
      ],
      "metadata": {
        "id": "2OhoFiXyfQV1"
      }
    },
    {
      "cell_type": "code",
      "source": [
        "# Mount Google Drive\n",
        "#from google.colab import drive\n",
        "#drive.mount('/content/drive')"
      ],
      "metadata": {
        "id": "k2HobXK8gBcu"
      },
      "execution_count": null,
      "outputs": []
    },
    {
      "cell_type": "code",
      "source": [
        "# Access Shared Drive Files\n",
        "# Path to the TxnPool folder\n",
        "base_path = '/content/drive/MyDrive/Data/TxnPool_Dataset'"
      ],
      "metadata": {
        "id": "vUhF4JwDfXCa"
      },
      "execution_count": null,
      "outputs": []
    },
    {
      "cell_type": "code",
      "execution_count": null,
      "metadata": {
        "colab": {
          "base_uri": "https://localhost:8080/",
          "height": 560
        },
        "id": "gKari4KKfAlB",
        "outputId": "c5cdfb3f-534c-4792-fab1-0ad680b9ed75"
      },
      "outputs": [
        {
          "output_type": "stream",
          "name": "stdout",
          "text": [
            "Pending Transactions:\n"
          ]
        },
        {
          "output_type": "display_data",
          "data": {
            "text/plain": [
              "  type chainId     nonce      gas maxFeePerGas maxPriorityFeePerGas  \\\n",
              "0  0x2     0x1       0x0  0x186a0  0x14ed13b30          0x14ed13b30   \n",
              "1  0x2     0x1       0x0  0x110d5  0x22d4dad80             0x5b8d80   \n",
              "2  0x1     0x1  0x206345  0x7a120          NaN                  NaN   \n",
              "3  0x0     0x1       0xb  0x1e8e6          NaN                  NaN   \n",
              "4  0x2     0x1       0x0  0x34e19  0x21eff9180             0x56f9a0   \n",
              "\n",
              "                                           to             value accessList  \\\n",
              "0  0xa0b86991c6218b36c1d19d4a2e9eb0ce3606eb48               0x0         []   \n",
              "1  0xdac17f958d2ee523a2206206994597c13d831ec7               0x0         []   \n",
              "2  0xcb3957cfc49ae5c0c91d03efc3c7de475834b7b7  0xa64fbf7daff400         []   \n",
              "3  0x4e5846858c8da2149b7185f0569121632270aae8               0x0        NaN   \n",
              "4  0x0000000000001ff3684f28c67538d4d072c22734  0x677b6d36120580         []   \n",
              "\n",
              "                                               input  ... yParity     v  \\\n",
              "0  0x095ea7b3000000000000000000000000c94ebb328ac2...  ...     0x0   0x0   \n",
              "1  0xa9059cbb000000000000000000000000072720a92bfe...  ...     0x0   0x0   \n",
              "2                                                 0x  ...     0x0   0x0   \n",
              "3                                         0x4e71d92d  ...     NaN  0x26   \n",
              "4  0x2213bc0b00000000000000000000000070bf6634ee8c...  ...     0x0   0x0   \n",
              "\n",
              "                                                hash blockHash blockNumber  \\\n",
              "0  0xe5556a71df711cddc3e409709805f6671b850def3e78...      None        None   \n",
              "1  0xfd988dadf5fc12cc300302b7a203ca52a6c738783e31...      None        None   \n",
              "2  0x6fa3cbfd414c0e2ff5b2f581d9580aef306a66e92a16...      None        None   \n",
              "3  0xf9ac1c0a3fed898695a4b6a9ae800e4c4e1383fb604a...      None        None   \n",
              "4  0xc16c37979793f01adc0aa19b8b12e1309c22c10cf624...      None        None   \n",
              "\n",
              "  transactionIndex                                        from     gasPrice  \\\n",
              "0             None  0x006ebcce53d7c0ce5970543ba49cd50a6e02fdd0  0x14ed13b30   \n",
              "1             None  0xea512b7dc9afff2518e91620a151fe2547d4fdd2  0x22d4dad80   \n",
              "2             None  0x264bd8291fae1d75db2c5f573b07faa6715997b5  0x2540be400   \n",
              "3             None  0x5d7c37a4a45d5c396d443b303a7bcc2c852ec1f0  0x191c7e0a0   \n",
              "4             None  0x8ad122ce98a635047b8be6bfdc3f09e427fab3d0  0x21eff9180   \n",
              "\n",
              "  blobVersionedHashes maxFeePerBlobGas  \n",
              "0                 NaN              NaN  \n",
              "1                 NaN              NaN  \n",
              "2                 NaN              NaN  \n",
              "3                 NaN              NaN  \n",
              "4                 NaN              NaN  \n",
              "\n",
              "[5 rows x 22 columns]"
            ],
            "text/html": [
              "\n",
              "  <div id=\"df-4b508cbb-2eb4-45a6-9c2f-3fa67a826bb9\" class=\"colab-df-container\">\n",
              "    <div>\n",
              "<style scoped>\n",
              "    .dataframe tbody tr th:only-of-type {\n",
              "        vertical-align: middle;\n",
              "    }\n",
              "\n",
              "    .dataframe tbody tr th {\n",
              "        vertical-align: top;\n",
              "    }\n",
              "\n",
              "    .dataframe thead th {\n",
              "        text-align: right;\n",
              "    }\n",
              "</style>\n",
              "<table border=\"1\" class=\"dataframe\">\n",
              "  <thead>\n",
              "    <tr style=\"text-align: right;\">\n",
              "      <th></th>\n",
              "      <th>type</th>\n",
              "      <th>chainId</th>\n",
              "      <th>nonce</th>\n",
              "      <th>gas</th>\n",
              "      <th>maxFeePerGas</th>\n",
              "      <th>maxPriorityFeePerGas</th>\n",
              "      <th>to</th>\n",
              "      <th>value</th>\n",
              "      <th>accessList</th>\n",
              "      <th>input</th>\n",
              "      <th>...</th>\n",
              "      <th>yParity</th>\n",
              "      <th>v</th>\n",
              "      <th>hash</th>\n",
              "      <th>blockHash</th>\n",
              "      <th>blockNumber</th>\n",
              "      <th>transactionIndex</th>\n",
              "      <th>from</th>\n",
              "      <th>gasPrice</th>\n",
              "      <th>blobVersionedHashes</th>\n",
              "      <th>maxFeePerBlobGas</th>\n",
              "    </tr>\n",
              "  </thead>\n",
              "  <tbody>\n",
              "    <tr>\n",
              "      <th>0</th>\n",
              "      <td>0x2</td>\n",
              "      <td>0x1</td>\n",
              "      <td>0x0</td>\n",
              "      <td>0x186a0</td>\n",
              "      <td>0x14ed13b30</td>\n",
              "      <td>0x14ed13b30</td>\n",
              "      <td>0xa0b86991c6218b36c1d19d4a2e9eb0ce3606eb48</td>\n",
              "      <td>0x0</td>\n",
              "      <td>[]</td>\n",
              "      <td>0x095ea7b3000000000000000000000000c94ebb328ac2...</td>\n",
              "      <td>...</td>\n",
              "      <td>0x0</td>\n",
              "      <td>0x0</td>\n",
              "      <td>0xe5556a71df711cddc3e409709805f6671b850def3e78...</td>\n",
              "      <td>None</td>\n",
              "      <td>None</td>\n",
              "      <td>None</td>\n",
              "      <td>0x006ebcce53d7c0ce5970543ba49cd50a6e02fdd0</td>\n",
              "      <td>0x14ed13b30</td>\n",
              "      <td>NaN</td>\n",
              "      <td>NaN</td>\n",
              "    </tr>\n",
              "    <tr>\n",
              "      <th>1</th>\n",
              "      <td>0x2</td>\n",
              "      <td>0x1</td>\n",
              "      <td>0x0</td>\n",
              "      <td>0x110d5</td>\n",
              "      <td>0x22d4dad80</td>\n",
              "      <td>0x5b8d80</td>\n",
              "      <td>0xdac17f958d2ee523a2206206994597c13d831ec7</td>\n",
              "      <td>0x0</td>\n",
              "      <td>[]</td>\n",
              "      <td>0xa9059cbb000000000000000000000000072720a92bfe...</td>\n",
              "      <td>...</td>\n",
              "      <td>0x0</td>\n",
              "      <td>0x0</td>\n",
              "      <td>0xfd988dadf5fc12cc300302b7a203ca52a6c738783e31...</td>\n",
              "      <td>None</td>\n",
              "      <td>None</td>\n",
              "      <td>None</td>\n",
              "      <td>0xea512b7dc9afff2518e91620a151fe2547d4fdd2</td>\n",
              "      <td>0x22d4dad80</td>\n",
              "      <td>NaN</td>\n",
              "      <td>NaN</td>\n",
              "    </tr>\n",
              "    <tr>\n",
              "      <th>2</th>\n",
              "      <td>0x1</td>\n",
              "      <td>0x1</td>\n",
              "      <td>0x206345</td>\n",
              "      <td>0x7a120</td>\n",
              "      <td>NaN</td>\n",
              "      <td>NaN</td>\n",
              "      <td>0xcb3957cfc49ae5c0c91d03efc3c7de475834b7b7</td>\n",
              "      <td>0xa64fbf7daff400</td>\n",
              "      <td>[]</td>\n",
              "      <td>0x</td>\n",
              "      <td>...</td>\n",
              "      <td>0x0</td>\n",
              "      <td>0x0</td>\n",
              "      <td>0x6fa3cbfd414c0e2ff5b2f581d9580aef306a66e92a16...</td>\n",
              "      <td>None</td>\n",
              "      <td>None</td>\n",
              "      <td>None</td>\n",
              "      <td>0x264bd8291fae1d75db2c5f573b07faa6715997b5</td>\n",
              "      <td>0x2540be400</td>\n",
              "      <td>NaN</td>\n",
              "      <td>NaN</td>\n",
              "    </tr>\n",
              "    <tr>\n",
              "      <th>3</th>\n",
              "      <td>0x0</td>\n",
              "      <td>0x1</td>\n",
              "      <td>0xb</td>\n",
              "      <td>0x1e8e6</td>\n",
              "      <td>NaN</td>\n",
              "      <td>NaN</td>\n",
              "      <td>0x4e5846858c8da2149b7185f0569121632270aae8</td>\n",
              "      <td>0x0</td>\n",
              "      <td>NaN</td>\n",
              "      <td>0x4e71d92d</td>\n",
              "      <td>...</td>\n",
              "      <td>NaN</td>\n",
              "      <td>0x26</td>\n",
              "      <td>0xf9ac1c0a3fed898695a4b6a9ae800e4c4e1383fb604a...</td>\n",
              "      <td>None</td>\n",
              "      <td>None</td>\n",
              "      <td>None</td>\n",
              "      <td>0x5d7c37a4a45d5c396d443b303a7bcc2c852ec1f0</td>\n",
              "      <td>0x191c7e0a0</td>\n",
              "      <td>NaN</td>\n",
              "      <td>NaN</td>\n",
              "    </tr>\n",
              "    <tr>\n",
              "      <th>4</th>\n",
              "      <td>0x2</td>\n",
              "      <td>0x1</td>\n",
              "      <td>0x0</td>\n",
              "      <td>0x34e19</td>\n",
              "      <td>0x21eff9180</td>\n",
              "      <td>0x56f9a0</td>\n",
              "      <td>0x0000000000001ff3684f28c67538d4d072c22734</td>\n",
              "      <td>0x677b6d36120580</td>\n",
              "      <td>[]</td>\n",
              "      <td>0x2213bc0b00000000000000000000000070bf6634ee8c...</td>\n",
              "      <td>...</td>\n",
              "      <td>0x0</td>\n",
              "      <td>0x0</td>\n",
              "      <td>0xc16c37979793f01adc0aa19b8b12e1309c22c10cf624...</td>\n",
              "      <td>None</td>\n",
              "      <td>None</td>\n",
              "      <td>None</td>\n",
              "      <td>0x8ad122ce98a635047b8be6bfdc3f09e427fab3d0</td>\n",
              "      <td>0x21eff9180</td>\n",
              "      <td>NaN</td>\n",
              "      <td>NaN</td>\n",
              "    </tr>\n",
              "  </tbody>\n",
              "</table>\n",
              "<p>5 rows × 22 columns</p>\n",
              "</div>\n",
              "    <div class=\"colab-df-buttons\">\n",
              "\n",
              "  <div class=\"colab-df-container\">\n",
              "    <button class=\"colab-df-convert\" onclick=\"convertToInteractive('df-4b508cbb-2eb4-45a6-9c2f-3fa67a826bb9')\"\n",
              "            title=\"Convert this dataframe to an interactive table.\"\n",
              "            style=\"display:none;\">\n",
              "\n",
              "  <svg xmlns=\"http://www.w3.org/2000/svg\" height=\"24px\" viewBox=\"0 -960 960 960\">\n",
              "    <path d=\"M120-120v-720h720v720H120Zm60-500h600v-160H180v160Zm220 220h160v-160H400v160Zm0 220h160v-160H400v160ZM180-400h160v-160H180v160Zm440 0h160v-160H620v160ZM180-180h160v-160H180v160Zm440 0h160v-160H620v160Z\"/>\n",
              "  </svg>\n",
              "    </button>\n",
              "\n",
              "  <style>\n",
              "    .colab-df-container {\n",
              "      display:flex;\n",
              "      gap: 12px;\n",
              "    }\n",
              "\n",
              "    .colab-df-convert {\n",
              "      background-color: #E8F0FE;\n",
              "      border: none;\n",
              "      border-radius: 50%;\n",
              "      cursor: pointer;\n",
              "      display: none;\n",
              "      fill: #1967D2;\n",
              "      height: 32px;\n",
              "      padding: 0 0 0 0;\n",
              "      width: 32px;\n",
              "    }\n",
              "\n",
              "    .colab-df-convert:hover {\n",
              "      background-color: #E2EBFA;\n",
              "      box-shadow: 0px 1px 2px rgba(60, 64, 67, 0.3), 0px 1px 3px 1px rgba(60, 64, 67, 0.15);\n",
              "      fill: #174EA6;\n",
              "    }\n",
              "\n",
              "    .colab-df-buttons div {\n",
              "      margin-bottom: 4px;\n",
              "    }\n",
              "\n",
              "    [theme=dark] .colab-df-convert {\n",
              "      background-color: #3B4455;\n",
              "      fill: #D2E3FC;\n",
              "    }\n",
              "\n",
              "    [theme=dark] .colab-df-convert:hover {\n",
              "      background-color: #434B5C;\n",
              "      box-shadow: 0px 1px 3px 1px rgba(0, 0, 0, 0.15);\n",
              "      filter: drop-shadow(0px 1px 2px rgba(0, 0, 0, 0.3));\n",
              "      fill: #FFFFFF;\n",
              "    }\n",
              "  </style>\n",
              "\n",
              "    <script>\n",
              "      const buttonEl =\n",
              "        document.querySelector('#df-4b508cbb-2eb4-45a6-9c2f-3fa67a826bb9 button.colab-df-convert');\n",
              "      buttonEl.style.display =\n",
              "        google.colab.kernel.accessAllowed ? 'block' : 'none';\n",
              "\n",
              "      async function convertToInteractive(key) {\n",
              "        const element = document.querySelector('#df-4b508cbb-2eb4-45a6-9c2f-3fa67a826bb9');\n",
              "        const dataTable =\n",
              "          await google.colab.kernel.invokeFunction('convertToInteractive',\n",
              "                                                    [key], {});\n",
              "        if (!dataTable) return;\n",
              "\n",
              "        const docLinkHtml = 'Like what you see? Visit the ' +\n",
              "          '<a target=\"_blank\" href=https://colab.research.google.com/notebooks/data_table.ipynb>data table notebook</a>'\n",
              "          + ' to learn more about interactive tables.';\n",
              "        element.innerHTML = '';\n",
              "        dataTable['output_type'] = 'display_data';\n",
              "        await google.colab.output.renderOutput(dataTable, element);\n",
              "        const docLink = document.createElement('div');\n",
              "        docLink.innerHTML = docLinkHtml;\n",
              "        element.appendChild(docLink);\n",
              "      }\n",
              "    </script>\n",
              "  </div>\n",
              "\n",
              "\n",
              "<div id=\"df-56aa7c18-1829-4191-ba80-ca77272e221a\">\n",
              "  <button class=\"colab-df-quickchart\" onclick=\"quickchart('df-56aa7c18-1829-4191-ba80-ca77272e221a')\"\n",
              "            title=\"Suggest charts\"\n",
              "            style=\"display:none;\">\n",
              "\n",
              "<svg xmlns=\"http://www.w3.org/2000/svg\" height=\"24px\"viewBox=\"0 0 24 24\"\n",
              "     width=\"24px\">\n",
              "    <g>\n",
              "        <path d=\"M19 3H5c-1.1 0-2 .9-2 2v14c0 1.1.9 2 2 2h14c1.1 0 2-.9 2-2V5c0-1.1-.9-2-2-2zM9 17H7v-7h2v7zm4 0h-2V7h2v10zm4 0h-2v-4h2v4z\"/>\n",
              "    </g>\n",
              "</svg>\n",
              "  </button>\n",
              "\n",
              "<style>\n",
              "  .colab-df-quickchart {\n",
              "      --bg-color: #E8F0FE;\n",
              "      --fill-color: #1967D2;\n",
              "      --hover-bg-color: #E2EBFA;\n",
              "      --hover-fill-color: #174EA6;\n",
              "      --disabled-fill-color: #AAA;\n",
              "      --disabled-bg-color: #DDD;\n",
              "  }\n",
              "\n",
              "  [theme=dark] .colab-df-quickchart {\n",
              "      --bg-color: #3B4455;\n",
              "      --fill-color: #D2E3FC;\n",
              "      --hover-bg-color: #434B5C;\n",
              "      --hover-fill-color: #FFFFFF;\n",
              "      --disabled-bg-color: #3B4455;\n",
              "      --disabled-fill-color: #666;\n",
              "  }\n",
              "\n",
              "  .colab-df-quickchart {\n",
              "    background-color: var(--bg-color);\n",
              "    border: none;\n",
              "    border-radius: 50%;\n",
              "    cursor: pointer;\n",
              "    display: none;\n",
              "    fill: var(--fill-color);\n",
              "    height: 32px;\n",
              "    padding: 0;\n",
              "    width: 32px;\n",
              "  }\n",
              "\n",
              "  .colab-df-quickchart:hover {\n",
              "    background-color: var(--hover-bg-color);\n",
              "    box-shadow: 0 1px 2px rgba(60, 64, 67, 0.3), 0 1px 3px 1px rgba(60, 64, 67, 0.15);\n",
              "    fill: var(--button-hover-fill-color);\n",
              "  }\n",
              "\n",
              "  .colab-df-quickchart-complete:disabled,\n",
              "  .colab-df-quickchart-complete:disabled:hover {\n",
              "    background-color: var(--disabled-bg-color);\n",
              "    fill: var(--disabled-fill-color);\n",
              "    box-shadow: none;\n",
              "  }\n",
              "\n",
              "  .colab-df-spinner {\n",
              "    border: 2px solid var(--fill-color);\n",
              "    border-color: transparent;\n",
              "    border-bottom-color: var(--fill-color);\n",
              "    animation:\n",
              "      spin 1s steps(1) infinite;\n",
              "  }\n",
              "\n",
              "  @keyframes spin {\n",
              "    0% {\n",
              "      border-color: transparent;\n",
              "      border-bottom-color: var(--fill-color);\n",
              "      border-left-color: var(--fill-color);\n",
              "    }\n",
              "    20% {\n",
              "      border-color: transparent;\n",
              "      border-left-color: var(--fill-color);\n",
              "      border-top-color: var(--fill-color);\n",
              "    }\n",
              "    30% {\n",
              "      border-color: transparent;\n",
              "      border-left-color: var(--fill-color);\n",
              "      border-top-color: var(--fill-color);\n",
              "      border-right-color: var(--fill-color);\n",
              "    }\n",
              "    40% {\n",
              "      border-color: transparent;\n",
              "      border-right-color: var(--fill-color);\n",
              "      border-top-color: var(--fill-color);\n",
              "    }\n",
              "    60% {\n",
              "      border-color: transparent;\n",
              "      border-right-color: var(--fill-color);\n",
              "    }\n",
              "    80% {\n",
              "      border-color: transparent;\n",
              "      border-right-color: var(--fill-color);\n",
              "      border-bottom-color: var(--fill-color);\n",
              "    }\n",
              "    90% {\n",
              "      border-color: transparent;\n",
              "      border-bottom-color: var(--fill-color);\n",
              "    }\n",
              "  }\n",
              "</style>\n",
              "\n",
              "  <script>\n",
              "    async function quickchart(key) {\n",
              "      const quickchartButtonEl =\n",
              "        document.querySelector('#' + key + ' button');\n",
              "      quickchartButtonEl.disabled = true;  // To prevent multiple clicks.\n",
              "      quickchartButtonEl.classList.add('colab-df-spinner');\n",
              "      try {\n",
              "        const charts = await google.colab.kernel.invokeFunction(\n",
              "            'suggestCharts', [key], {});\n",
              "      } catch (error) {\n",
              "        console.error('Error during call to suggestCharts:', error);\n",
              "      }\n",
              "      quickchartButtonEl.classList.remove('colab-df-spinner');\n",
              "      quickchartButtonEl.classList.add('colab-df-quickchart-complete');\n",
              "    }\n",
              "    (() => {\n",
              "      let quickchartButtonEl =\n",
              "        document.querySelector('#df-56aa7c18-1829-4191-ba80-ca77272e221a button');\n",
              "      quickchartButtonEl.style.display =\n",
              "        google.colab.kernel.accessAllowed ? 'block' : 'none';\n",
              "    })();\n",
              "  </script>\n",
              "</div>\n",
              "\n",
              "    </div>\n",
              "  </div>\n"
            ],
            "application/vnd.google.colaboratory.intrinsic+json": {
              "type": "dataframe"
            }
          },
          "metadata": {}
        },
        {
          "output_type": "stream",
          "name": "stdout",
          "text": [
            "\n",
            "Mined Transactions:\n"
          ]
        },
        {
          "output_type": "display_data",
          "data": {
            "text/plain": [
              "                                                hash  type  \\\n",
              "0  0xbd54521dfec55aca9fca638d3d8c1fb26c9576989910...     2   \n",
              "1  0x4d98975d66dff87614edaae3945ffca61b7e02b3cc2e...     2   \n",
              "2  0x35e51ea579f4eb7e764f2e1cc6aa848b48a5f2ab4a0a...     0   \n",
              "3  0x756e27a1658ee72ab4aaa3a9c2baa4e756940b6effca...     2   \n",
              "4  0x0cbbc3c4805e767d929b6d5a71515a7e8068c0bd5eef...     2   \n",
              "\n",
              "                                          accessList  \\\n",
              "0  [{'address': '0xC02aaA39b223FE8D0A0e5C4F27eAD9...   \n",
              "1  [{'address': '0xC02aaA39b223FE8D0A0e5C4F27eAD9...   \n",
              "2                                               None   \n",
              "3                                                 []   \n",
              "4                                                 []   \n",
              "\n",
              "                                           blockHash  blockNumber  \\\n",
              "0  0x194f2abaebf0401823ffa3ffc11412a3a74103e9a636...     21719048   \n",
              "1  0x194f2abaebf0401823ffa3ffc11412a3a74103e9a636...     21719048   \n",
              "2  0x194f2abaebf0401823ffa3ffc11412a3a74103e9a636...     21719048   \n",
              "3  0x194f2abaebf0401823ffa3ffc11412a3a74103e9a636...     21719048   \n",
              "4  0x194f2abaebf0401823ffa3ffc11412a3a74103e9a636...     21719048   \n",
              "\n",
              "   transactionIndex  confirmations  \\\n",
              "0                 0              2   \n",
              "1                 1              2   \n",
              "2                 2              2   \n",
              "3                 3              2   \n",
              "4                 4              2   \n",
              "\n",
              "                                         from  \\\n",
              "0  0x2A0eFF97Bb68298e36BEa8c86852436E96Af92b9   \n",
              "1  0x26FD09c8B44AF53df38a9BAD41D5Abc55a1786AF   \n",
              "2  0xC16157e00b1bFf1522C6F01246B4Fb621dA048d0   \n",
              "3  0x7c458AD25Fa85119fa0a7556d58ECe7769c7D0b8   \n",
              "4  0xe7D987acC05A60A5a2D4CB1acB3a55da0C16c7D8   \n",
              "\n",
              "                                           to   nonce  ... gasPrice.type  \\\n",
              "0  0x73a8a6F5d9762EA5f1de193eC19CdF476C7e86b1  152092  ...     BigNumber   \n",
              "1  0x7176f0F071379FeE51668Eb6387ddA9129E5CA6B  241172  ...     BigNumber   \n",
              "2  0x45118b56D5066A6352D78D15f795CFab33C4DEF3  293331  ...     BigNumber   \n",
              "3  0x3fC91A3afd70395Cd496C647d5a6CC9D4B2b7FAD     295  ...     BigNumber   \n",
              "4  0x3fC91A3afd70395Cd496C647d5a6CC9D4B2b7FAD     396  ...     BigNumber   \n",
              "\n",
              "   gasPrice.hex maxPriorityFeePerGas.type  maxPriorityFeePerGas.hex  \\\n",
              "0  0x02f6b68f65                 BigNumber              0x01e0404fe4   \n",
              "1  0x024898296c                 BigNumber              0x013221e9eb   \n",
              "2  0x0193d3ff37                       NaN                       NaN   \n",
              "3  0x018dabd381                 BigNumber                0x77359400   \n",
              "4  0x018dabd381                 BigNumber                0x77359400   \n",
              "\n",
              "  maxFeePerGas.type  maxFeePerGas.hex gasLimit.type gasLimit.hex value.type  \\\n",
              "0         BigNumber      0x0341e5d8dc     BigNumber     0x0493e3  BigNumber   \n",
              "1         BigNumber      0x0293c772e3     BigNumber     0x0493e3  BigNumber   \n",
              "2               NaN               NaN     BigNumber     0x055127  BigNumber   \n",
              "3         BigNumber      0x01b35af8fe     BigNumber     0x054846  BigNumber   \n",
              "4         BigNumber      0x01b7d6990d     BigNumber     0x055729  BigNumber   \n",
              "\n",
              "          value.hex  \n",
              "0              0x00  \n",
              "1              0x00  \n",
              "2  0x7154ae4f502800  \n",
              "3              0x00  \n",
              "4              0x00  \n",
              "\n",
              "[5 rows x 26 columns]"
            ],
            "text/html": [
              "\n",
              "  <div id=\"df-52c1782a-5e38-49ca-ad88-97fb356866d2\" class=\"colab-df-container\">\n",
              "    <div>\n",
              "<style scoped>\n",
              "    .dataframe tbody tr th:only-of-type {\n",
              "        vertical-align: middle;\n",
              "    }\n",
              "\n",
              "    .dataframe tbody tr th {\n",
              "        vertical-align: top;\n",
              "    }\n",
              "\n",
              "    .dataframe thead th {\n",
              "        text-align: right;\n",
              "    }\n",
              "</style>\n",
              "<table border=\"1\" class=\"dataframe\">\n",
              "  <thead>\n",
              "    <tr style=\"text-align: right;\">\n",
              "      <th></th>\n",
              "      <th>hash</th>\n",
              "      <th>type</th>\n",
              "      <th>accessList</th>\n",
              "      <th>blockHash</th>\n",
              "      <th>blockNumber</th>\n",
              "      <th>transactionIndex</th>\n",
              "      <th>confirmations</th>\n",
              "      <th>from</th>\n",
              "      <th>to</th>\n",
              "      <th>nonce</th>\n",
              "      <th>...</th>\n",
              "      <th>gasPrice.type</th>\n",
              "      <th>gasPrice.hex</th>\n",
              "      <th>maxPriorityFeePerGas.type</th>\n",
              "      <th>maxPriorityFeePerGas.hex</th>\n",
              "      <th>maxFeePerGas.type</th>\n",
              "      <th>maxFeePerGas.hex</th>\n",
              "      <th>gasLimit.type</th>\n",
              "      <th>gasLimit.hex</th>\n",
              "      <th>value.type</th>\n",
              "      <th>value.hex</th>\n",
              "    </tr>\n",
              "  </thead>\n",
              "  <tbody>\n",
              "    <tr>\n",
              "      <th>0</th>\n",
              "      <td>0xbd54521dfec55aca9fca638d3d8c1fb26c9576989910...</td>\n",
              "      <td>2</td>\n",
              "      <td>[{'address': '0xC02aaA39b223FE8D0A0e5C4F27eAD9...</td>\n",
              "      <td>0x194f2abaebf0401823ffa3ffc11412a3a74103e9a636...</td>\n",
              "      <td>21719048</td>\n",
              "      <td>0</td>\n",
              "      <td>2</td>\n",
              "      <td>0x2A0eFF97Bb68298e36BEa8c86852436E96Af92b9</td>\n",
              "      <td>0x73a8a6F5d9762EA5f1de193eC19CdF476C7e86b1</td>\n",
              "      <td>152092</td>\n",
              "      <td>...</td>\n",
              "      <td>BigNumber</td>\n",
              "      <td>0x02f6b68f65</td>\n",
              "      <td>BigNumber</td>\n",
              "      <td>0x01e0404fe4</td>\n",
              "      <td>BigNumber</td>\n",
              "      <td>0x0341e5d8dc</td>\n",
              "      <td>BigNumber</td>\n",
              "      <td>0x0493e3</td>\n",
              "      <td>BigNumber</td>\n",
              "      <td>0x00</td>\n",
              "    </tr>\n",
              "    <tr>\n",
              "      <th>1</th>\n",
              "      <td>0x4d98975d66dff87614edaae3945ffca61b7e02b3cc2e...</td>\n",
              "      <td>2</td>\n",
              "      <td>[{'address': '0xC02aaA39b223FE8D0A0e5C4F27eAD9...</td>\n",
              "      <td>0x194f2abaebf0401823ffa3ffc11412a3a74103e9a636...</td>\n",
              "      <td>21719048</td>\n",
              "      <td>1</td>\n",
              "      <td>2</td>\n",
              "      <td>0x26FD09c8B44AF53df38a9BAD41D5Abc55a1786AF</td>\n",
              "      <td>0x7176f0F071379FeE51668Eb6387ddA9129E5CA6B</td>\n",
              "      <td>241172</td>\n",
              "      <td>...</td>\n",
              "      <td>BigNumber</td>\n",
              "      <td>0x024898296c</td>\n",
              "      <td>BigNumber</td>\n",
              "      <td>0x013221e9eb</td>\n",
              "      <td>BigNumber</td>\n",
              "      <td>0x0293c772e3</td>\n",
              "      <td>BigNumber</td>\n",
              "      <td>0x0493e3</td>\n",
              "      <td>BigNumber</td>\n",
              "      <td>0x00</td>\n",
              "    </tr>\n",
              "    <tr>\n",
              "      <th>2</th>\n",
              "      <td>0x35e51ea579f4eb7e764f2e1cc6aa848b48a5f2ab4a0a...</td>\n",
              "      <td>0</td>\n",
              "      <td>None</td>\n",
              "      <td>0x194f2abaebf0401823ffa3ffc11412a3a74103e9a636...</td>\n",
              "      <td>21719048</td>\n",
              "      <td>2</td>\n",
              "      <td>2</td>\n",
              "      <td>0xC16157e00b1bFf1522C6F01246B4Fb621dA048d0</td>\n",
              "      <td>0x45118b56D5066A6352D78D15f795CFab33C4DEF3</td>\n",
              "      <td>293331</td>\n",
              "      <td>...</td>\n",
              "      <td>BigNumber</td>\n",
              "      <td>0x0193d3ff37</td>\n",
              "      <td>NaN</td>\n",
              "      <td>NaN</td>\n",
              "      <td>NaN</td>\n",
              "      <td>NaN</td>\n",
              "      <td>BigNumber</td>\n",
              "      <td>0x055127</td>\n",
              "      <td>BigNumber</td>\n",
              "      <td>0x7154ae4f502800</td>\n",
              "    </tr>\n",
              "    <tr>\n",
              "      <th>3</th>\n",
              "      <td>0x756e27a1658ee72ab4aaa3a9c2baa4e756940b6effca...</td>\n",
              "      <td>2</td>\n",
              "      <td>[]</td>\n",
              "      <td>0x194f2abaebf0401823ffa3ffc11412a3a74103e9a636...</td>\n",
              "      <td>21719048</td>\n",
              "      <td>3</td>\n",
              "      <td>2</td>\n",
              "      <td>0x7c458AD25Fa85119fa0a7556d58ECe7769c7D0b8</td>\n",
              "      <td>0x3fC91A3afd70395Cd496C647d5a6CC9D4B2b7FAD</td>\n",
              "      <td>295</td>\n",
              "      <td>...</td>\n",
              "      <td>BigNumber</td>\n",
              "      <td>0x018dabd381</td>\n",
              "      <td>BigNumber</td>\n",
              "      <td>0x77359400</td>\n",
              "      <td>BigNumber</td>\n",
              "      <td>0x01b35af8fe</td>\n",
              "      <td>BigNumber</td>\n",
              "      <td>0x054846</td>\n",
              "      <td>BigNumber</td>\n",
              "      <td>0x00</td>\n",
              "    </tr>\n",
              "    <tr>\n",
              "      <th>4</th>\n",
              "      <td>0x0cbbc3c4805e767d929b6d5a71515a7e8068c0bd5eef...</td>\n",
              "      <td>2</td>\n",
              "      <td>[]</td>\n",
              "      <td>0x194f2abaebf0401823ffa3ffc11412a3a74103e9a636...</td>\n",
              "      <td>21719048</td>\n",
              "      <td>4</td>\n",
              "      <td>2</td>\n",
              "      <td>0xe7D987acC05A60A5a2D4CB1acB3a55da0C16c7D8</td>\n",
              "      <td>0x3fC91A3afd70395Cd496C647d5a6CC9D4B2b7FAD</td>\n",
              "      <td>396</td>\n",
              "      <td>...</td>\n",
              "      <td>BigNumber</td>\n",
              "      <td>0x018dabd381</td>\n",
              "      <td>BigNumber</td>\n",
              "      <td>0x77359400</td>\n",
              "      <td>BigNumber</td>\n",
              "      <td>0x01b7d6990d</td>\n",
              "      <td>BigNumber</td>\n",
              "      <td>0x055729</td>\n",
              "      <td>BigNumber</td>\n",
              "      <td>0x00</td>\n",
              "    </tr>\n",
              "  </tbody>\n",
              "</table>\n",
              "<p>5 rows × 26 columns</p>\n",
              "</div>\n",
              "    <div class=\"colab-df-buttons\">\n",
              "\n",
              "  <div class=\"colab-df-container\">\n",
              "    <button class=\"colab-df-convert\" onclick=\"convertToInteractive('df-52c1782a-5e38-49ca-ad88-97fb356866d2')\"\n",
              "            title=\"Convert this dataframe to an interactive table.\"\n",
              "            style=\"display:none;\">\n",
              "\n",
              "  <svg xmlns=\"http://www.w3.org/2000/svg\" height=\"24px\" viewBox=\"0 -960 960 960\">\n",
              "    <path d=\"M120-120v-720h720v720H120Zm60-500h600v-160H180v160Zm220 220h160v-160H400v160Zm0 220h160v-160H400v160ZM180-400h160v-160H180v160Zm440 0h160v-160H620v160ZM180-180h160v-160H180v160Zm440 0h160v-160H620v160Z\"/>\n",
              "  </svg>\n",
              "    </button>\n",
              "\n",
              "  <style>\n",
              "    .colab-df-container {\n",
              "      display:flex;\n",
              "      gap: 12px;\n",
              "    }\n",
              "\n",
              "    .colab-df-convert {\n",
              "      background-color: #E8F0FE;\n",
              "      border: none;\n",
              "      border-radius: 50%;\n",
              "      cursor: pointer;\n",
              "      display: none;\n",
              "      fill: #1967D2;\n",
              "      height: 32px;\n",
              "      padding: 0 0 0 0;\n",
              "      width: 32px;\n",
              "    }\n",
              "\n",
              "    .colab-df-convert:hover {\n",
              "      background-color: #E2EBFA;\n",
              "      box-shadow: 0px 1px 2px rgba(60, 64, 67, 0.3), 0px 1px 3px 1px rgba(60, 64, 67, 0.15);\n",
              "      fill: #174EA6;\n",
              "    }\n",
              "\n",
              "    .colab-df-buttons div {\n",
              "      margin-bottom: 4px;\n",
              "    }\n",
              "\n",
              "    [theme=dark] .colab-df-convert {\n",
              "      background-color: #3B4455;\n",
              "      fill: #D2E3FC;\n",
              "    }\n",
              "\n",
              "    [theme=dark] .colab-df-convert:hover {\n",
              "      background-color: #434B5C;\n",
              "      box-shadow: 0px 1px 3px 1px rgba(0, 0, 0, 0.15);\n",
              "      filter: drop-shadow(0px 1px 2px rgba(0, 0, 0, 0.3));\n",
              "      fill: #FFFFFF;\n",
              "    }\n",
              "  </style>\n",
              "\n",
              "    <script>\n",
              "      const buttonEl =\n",
              "        document.querySelector('#df-52c1782a-5e38-49ca-ad88-97fb356866d2 button.colab-df-convert');\n",
              "      buttonEl.style.display =\n",
              "        google.colab.kernel.accessAllowed ? 'block' : 'none';\n",
              "\n",
              "      async function convertToInteractive(key) {\n",
              "        const element = document.querySelector('#df-52c1782a-5e38-49ca-ad88-97fb356866d2');\n",
              "        const dataTable =\n",
              "          await google.colab.kernel.invokeFunction('convertToInteractive',\n",
              "                                                    [key], {});\n",
              "        if (!dataTable) return;\n",
              "\n",
              "        const docLinkHtml = 'Like what you see? Visit the ' +\n",
              "          '<a target=\"_blank\" href=https://colab.research.google.com/notebooks/data_table.ipynb>data table notebook</a>'\n",
              "          + ' to learn more about interactive tables.';\n",
              "        element.innerHTML = '';\n",
              "        dataTable['output_type'] = 'display_data';\n",
              "        await google.colab.output.renderOutput(dataTable, element);\n",
              "        const docLink = document.createElement('div');\n",
              "        docLink.innerHTML = docLinkHtml;\n",
              "        element.appendChild(docLink);\n",
              "      }\n",
              "    </script>\n",
              "  </div>\n",
              "\n",
              "\n",
              "<div id=\"df-539d8219-6e8d-426e-81fd-57ed63e23723\">\n",
              "  <button class=\"colab-df-quickchart\" onclick=\"quickchart('df-539d8219-6e8d-426e-81fd-57ed63e23723')\"\n",
              "            title=\"Suggest charts\"\n",
              "            style=\"display:none;\">\n",
              "\n",
              "<svg xmlns=\"http://www.w3.org/2000/svg\" height=\"24px\"viewBox=\"0 0 24 24\"\n",
              "     width=\"24px\">\n",
              "    <g>\n",
              "        <path d=\"M19 3H5c-1.1 0-2 .9-2 2v14c0 1.1.9 2 2 2h14c1.1 0 2-.9 2-2V5c0-1.1-.9-2-2-2zM9 17H7v-7h2v7zm4 0h-2V7h2v10zm4 0h-2v-4h2v4z\"/>\n",
              "    </g>\n",
              "</svg>\n",
              "  </button>\n",
              "\n",
              "<style>\n",
              "  .colab-df-quickchart {\n",
              "      --bg-color: #E8F0FE;\n",
              "      --fill-color: #1967D2;\n",
              "      --hover-bg-color: #E2EBFA;\n",
              "      --hover-fill-color: #174EA6;\n",
              "      --disabled-fill-color: #AAA;\n",
              "      --disabled-bg-color: #DDD;\n",
              "  }\n",
              "\n",
              "  [theme=dark] .colab-df-quickchart {\n",
              "      --bg-color: #3B4455;\n",
              "      --fill-color: #D2E3FC;\n",
              "      --hover-bg-color: #434B5C;\n",
              "      --hover-fill-color: #FFFFFF;\n",
              "      --disabled-bg-color: #3B4455;\n",
              "      --disabled-fill-color: #666;\n",
              "  }\n",
              "\n",
              "  .colab-df-quickchart {\n",
              "    background-color: var(--bg-color);\n",
              "    border: none;\n",
              "    border-radius: 50%;\n",
              "    cursor: pointer;\n",
              "    display: none;\n",
              "    fill: var(--fill-color);\n",
              "    height: 32px;\n",
              "    padding: 0;\n",
              "    width: 32px;\n",
              "  }\n",
              "\n",
              "  .colab-df-quickchart:hover {\n",
              "    background-color: var(--hover-bg-color);\n",
              "    box-shadow: 0 1px 2px rgba(60, 64, 67, 0.3), 0 1px 3px 1px rgba(60, 64, 67, 0.15);\n",
              "    fill: var(--button-hover-fill-color);\n",
              "  }\n",
              "\n",
              "  .colab-df-quickchart-complete:disabled,\n",
              "  .colab-df-quickchart-complete:disabled:hover {\n",
              "    background-color: var(--disabled-bg-color);\n",
              "    fill: var(--disabled-fill-color);\n",
              "    box-shadow: none;\n",
              "  }\n",
              "\n",
              "  .colab-df-spinner {\n",
              "    border: 2px solid var(--fill-color);\n",
              "    border-color: transparent;\n",
              "    border-bottom-color: var(--fill-color);\n",
              "    animation:\n",
              "      spin 1s steps(1) infinite;\n",
              "  }\n",
              "\n",
              "  @keyframes spin {\n",
              "    0% {\n",
              "      border-color: transparent;\n",
              "      border-bottom-color: var(--fill-color);\n",
              "      border-left-color: var(--fill-color);\n",
              "    }\n",
              "    20% {\n",
              "      border-color: transparent;\n",
              "      border-left-color: var(--fill-color);\n",
              "      border-top-color: var(--fill-color);\n",
              "    }\n",
              "    30% {\n",
              "      border-color: transparent;\n",
              "      border-left-color: var(--fill-color);\n",
              "      border-top-color: var(--fill-color);\n",
              "      border-right-color: var(--fill-color);\n",
              "    }\n",
              "    40% {\n",
              "      border-color: transparent;\n",
              "      border-right-color: var(--fill-color);\n",
              "      border-top-color: var(--fill-color);\n",
              "    }\n",
              "    60% {\n",
              "      border-color: transparent;\n",
              "      border-right-color: var(--fill-color);\n",
              "    }\n",
              "    80% {\n",
              "      border-color: transparent;\n",
              "      border-right-color: var(--fill-color);\n",
              "      border-bottom-color: var(--fill-color);\n",
              "    }\n",
              "    90% {\n",
              "      border-color: transparent;\n",
              "      border-bottom-color: var(--fill-color);\n",
              "    }\n",
              "  }\n",
              "</style>\n",
              "\n",
              "  <script>\n",
              "    async function quickchart(key) {\n",
              "      const quickchartButtonEl =\n",
              "        document.querySelector('#' + key + ' button');\n",
              "      quickchartButtonEl.disabled = true;  // To prevent multiple clicks.\n",
              "      quickchartButtonEl.classList.add('colab-df-spinner');\n",
              "      try {\n",
              "        const charts = await google.colab.kernel.invokeFunction(\n",
              "            'suggestCharts', [key], {});\n",
              "      } catch (error) {\n",
              "        console.error('Error during call to suggestCharts:', error);\n",
              "      }\n",
              "      quickchartButtonEl.classList.remove('colab-df-spinner');\n",
              "      quickchartButtonEl.classList.add('colab-df-quickchart-complete');\n",
              "    }\n",
              "    (() => {\n",
              "      let quickchartButtonEl =\n",
              "        document.querySelector('#df-539d8219-6e8d-426e-81fd-57ed63e23723 button');\n",
              "      quickchartButtonEl.style.display =\n",
              "        google.colab.kernel.accessAllowed ? 'block' : 'none';\n",
              "    })();\n",
              "  </script>\n",
              "</div>\n",
              "\n",
              "    </div>\n",
              "  </div>\n"
            ],
            "application/vnd.google.colaboratory.intrinsic+json": {
              "type": "dataframe"
            }
          },
          "metadata": {}
        }
      ],
      "source": [
        "pending_data = []\n",
        "mined_data = []\n",
        "\n",
        "# Loop through each block inside TxnPool\n",
        "for block in os.listdir(base_path):\n",
        "    block_path = os.path.join(base_path,block)\n",
        "\n",
        "    if os.path.isdir(block_path):\n",
        "        for file_name in os.listdir(block_path):\n",
        "            file_path = os.path.join(block_path, file_name)\n",
        "\n",
        "            if file_name.startswith('pending_transactions') and file_name.endswith('.json'):\n",
        "                with open(file_path, 'r') as file:\n",
        "                    data = json.load(file)\n",
        "                    pending_data.extend(data)\n",
        "\n",
        "            elif file_name.startswith('mined_transactions') and file_name.endswith('.json'):\n",
        "                with open(file_path, 'r') as file:\n",
        "                    data = json.load(file)\n",
        "                    mined_data.extend(data)\n",
        "\n",
        "# Convert to DataFrames\n",
        "pending_df = pd.json_normalize(pending_data)\n",
        "mined_df = pd.json_normalize(mined_data)\n",
        "\n",
        "# Display the first few rows\n",
        "print(\"Pending Transactions:\")\n",
        "display(pending_df.head())\n",
        "\n",
        "print(\"\\nMined Transactions:\")\n",
        "display(mined_df.head())\n"
      ]
    },
    {
      "cell_type": "code",
      "source": [
        "pending_df.to_csv(\"pending_df.csv\",index=False)\n",
        "mined_df.to_csv(\"mined_df.csv\",index=False)"
      ],
      "metadata": {
        "id": "zTRyXQoDtnB5"
      },
      "execution_count": null,
      "outputs": []
    },
    {
      "cell_type": "markdown",
      "source": [
        "# Exploratory Data Analysis (EDA)"
      ],
      "metadata": {
        "id": "0YBrWz3QkFHT"
      }
    },
    {
      "cell_type": "code",
      "source": [
        "pending_df.columns"
      ],
      "metadata": {
        "colab": {
          "base_uri": "https://localhost:8080/"
        },
        "id": "fH-OCgYukFpK",
        "outputId": "c47dc386-3994-4182-8df8-30b28fc75675"
      },
      "execution_count": null,
      "outputs": [
        {
          "output_type": "execute_result",
          "data": {
            "text/plain": [
              "Index(['type', 'chainId', 'nonce', 'gas', 'maxFeePerGas',\n",
              "       'maxPriorityFeePerGas', 'to', 'value', 'accessList', 'input', 'r', 's',\n",
              "       'yParity', 'v', 'hash', 'blockHash', 'blockNumber', 'transactionIndex',\n",
              "       'from', 'gasPrice', 'blobVersionedHashes', 'maxFeePerBlobGas'],\n",
              "      dtype='object')"
            ]
          },
          "metadata": {},
          "execution_count": 6
        }
      ]
    },
    {
      "cell_type": "code",
      "source": [
        "mined_df.columns"
      ],
      "metadata": {
        "colab": {
          "base_uri": "https://localhost:8080/"
        },
        "id": "pTKWbs1akIyA",
        "outputId": "63eaf634-9854-47d1-92a8-4406f0b13862"
      },
      "execution_count": null,
      "outputs": [
        {
          "output_type": "execute_result",
          "data": {
            "text/plain": [
              "Index(['hash', 'type', 'accessList', 'blockHash', 'blockNumber',\n",
              "       'transactionIndex', 'confirmations', 'from', 'to', 'nonce', 'data', 'r',\n",
              "       's', 'v', 'creates', 'chainId', 'gasPrice.type', 'gasPrice.hex',\n",
              "       'maxPriorityFeePerGas.type', 'maxPriorityFeePerGas.hex',\n",
              "       'maxFeePerGas.type', 'maxFeePerGas.hex', 'gasLimit.type',\n",
              "       'gasLimit.hex', 'value.type', 'value.hex'],\n",
              "      dtype='object')"
            ]
          },
          "metadata": {},
          "execution_count": 7
        }
      ]
    },
    {
      "cell_type": "code",
      "source": [
        "pending_df.shape"
      ],
      "metadata": {
        "colab": {
          "base_uri": "https://localhost:8080/"
        },
        "id": "7UyxJXp-remI",
        "outputId": "78f83555-91da-4d3e-d618-34326f729688"
      },
      "execution_count": null,
      "outputs": [
        {
          "output_type": "execute_result",
          "data": {
            "text/plain": [
              "(431, 22)"
            ]
          },
          "metadata": {},
          "execution_count": 8
        }
      ]
    },
    {
      "cell_type": "code",
      "source": [
        "# identify missing data\n",
        "pending_df.isnull().sum().sort_values(ascending=False)"
      ],
      "metadata": {
        "colab": {
          "base_uri": "https://localhost:8080/",
          "height": 773
        },
        "id": "89X3vnCrrI-d",
        "outputId": "248a4b8a-d02e-4c0d-fd94-40aea7c16b90"
      },
      "execution_count": null,
      "outputs": [
        {
          "output_type": "execute_result",
          "data": {
            "text/plain": [
              "transactionIndex        431\n",
              "blockNumber             431\n",
              "blockHash               431\n",
              "maxFeePerBlobGas        429\n",
              "blobVersionedHashes     429\n",
              "maxFeePerGas             95\n",
              "maxPriorityFeePerGas     95\n",
              "accessList               83\n",
              "yParity                  83\n",
              "chainId                   2\n",
              "hash                      0\n",
              "gasPrice                  0\n",
              "from                      0\n",
              "type                      0\n",
              "v                         0\n",
              "r                         0\n",
              "input                     0\n",
              "value                     0\n",
              "to                        0\n",
              "gas                       0\n",
              "nonce                     0\n",
              "s                         0\n",
              "dtype: int64"
            ],
            "text/html": [
              "<div>\n",
              "<style scoped>\n",
              "    .dataframe tbody tr th:only-of-type {\n",
              "        vertical-align: middle;\n",
              "    }\n",
              "\n",
              "    .dataframe tbody tr th {\n",
              "        vertical-align: top;\n",
              "    }\n",
              "\n",
              "    .dataframe thead th {\n",
              "        text-align: right;\n",
              "    }\n",
              "</style>\n",
              "<table border=\"1\" class=\"dataframe\">\n",
              "  <thead>\n",
              "    <tr style=\"text-align: right;\">\n",
              "      <th></th>\n",
              "      <th>0</th>\n",
              "    </tr>\n",
              "  </thead>\n",
              "  <tbody>\n",
              "    <tr>\n",
              "      <th>transactionIndex</th>\n",
              "      <td>431</td>\n",
              "    </tr>\n",
              "    <tr>\n",
              "      <th>blockNumber</th>\n",
              "      <td>431</td>\n",
              "    </tr>\n",
              "    <tr>\n",
              "      <th>blockHash</th>\n",
              "      <td>431</td>\n",
              "    </tr>\n",
              "    <tr>\n",
              "      <th>maxFeePerBlobGas</th>\n",
              "      <td>429</td>\n",
              "    </tr>\n",
              "    <tr>\n",
              "      <th>blobVersionedHashes</th>\n",
              "      <td>429</td>\n",
              "    </tr>\n",
              "    <tr>\n",
              "      <th>maxFeePerGas</th>\n",
              "      <td>95</td>\n",
              "    </tr>\n",
              "    <tr>\n",
              "      <th>maxPriorityFeePerGas</th>\n",
              "      <td>95</td>\n",
              "    </tr>\n",
              "    <tr>\n",
              "      <th>accessList</th>\n",
              "      <td>83</td>\n",
              "    </tr>\n",
              "    <tr>\n",
              "      <th>yParity</th>\n",
              "      <td>83</td>\n",
              "    </tr>\n",
              "    <tr>\n",
              "      <th>chainId</th>\n",
              "      <td>2</td>\n",
              "    </tr>\n",
              "    <tr>\n",
              "      <th>hash</th>\n",
              "      <td>0</td>\n",
              "    </tr>\n",
              "    <tr>\n",
              "      <th>gasPrice</th>\n",
              "      <td>0</td>\n",
              "    </tr>\n",
              "    <tr>\n",
              "      <th>from</th>\n",
              "      <td>0</td>\n",
              "    </tr>\n",
              "    <tr>\n",
              "      <th>type</th>\n",
              "      <td>0</td>\n",
              "    </tr>\n",
              "    <tr>\n",
              "      <th>v</th>\n",
              "      <td>0</td>\n",
              "    </tr>\n",
              "    <tr>\n",
              "      <th>r</th>\n",
              "      <td>0</td>\n",
              "    </tr>\n",
              "    <tr>\n",
              "      <th>input</th>\n",
              "      <td>0</td>\n",
              "    </tr>\n",
              "    <tr>\n",
              "      <th>value</th>\n",
              "      <td>0</td>\n",
              "    </tr>\n",
              "    <tr>\n",
              "      <th>to</th>\n",
              "      <td>0</td>\n",
              "    </tr>\n",
              "    <tr>\n",
              "      <th>gas</th>\n",
              "      <td>0</td>\n",
              "    </tr>\n",
              "    <tr>\n",
              "      <th>nonce</th>\n",
              "      <td>0</td>\n",
              "    </tr>\n",
              "    <tr>\n",
              "      <th>s</th>\n",
              "      <td>0</td>\n",
              "    </tr>\n",
              "  </tbody>\n",
              "</table>\n",
              "</div><br><label><b>dtype:</b> int64</label>"
            ]
          },
          "metadata": {},
          "execution_count": 9
        }
      ]
    },
    {
      "cell_type": "code",
      "source": [
        "mined_df.shape"
      ],
      "metadata": {
        "colab": {
          "base_uri": "https://localhost:8080/"
        },
        "id": "jl1i1Ij-9GV8",
        "outputId": "0e588c8b-fb14-4bb1-e925-e89fb689a3b8"
      },
      "execution_count": null,
      "outputs": [
        {
          "output_type": "execute_result",
          "data": {
            "text/plain": [
              "(500, 26)"
            ]
          },
          "metadata": {},
          "execution_count": 10
        }
      ]
    },
    {
      "cell_type": "code",
      "source": [
        "mined_df.isnull().sum().sort_values(ascending=False)"
      ],
      "metadata": {
        "colab": {
          "base_uri": "https://localhost:8080/",
          "height": 899
        },
        "id": "gG-k0d-U9Ep3",
        "outputId": "d4593569-c9ca-4236-9704-b563df66f042"
      },
      "execution_count": null,
      "outputs": [
        {
          "output_type": "execute_result",
          "data": {
            "text/plain": [
              "creates                      500\n",
              "maxFeePerGas.hex              59\n",
              "maxFeePerGas.type             59\n",
              "maxPriorityFeePerGas.hex      59\n",
              "maxPriorityFeePerGas.type     59\n",
              "accessList                    52\n",
              "hash                           0\n",
              "value.type                     0\n",
              "gasLimit.hex                   0\n",
              "gasLimit.type                  0\n",
              "gasPrice.hex                   0\n",
              "gasPrice.type                  0\n",
              "chainId                        0\n",
              "v                              0\n",
              "type                           0\n",
              "s                              0\n",
              "r                              0\n",
              "data                           0\n",
              "nonce                          0\n",
              "to                             0\n",
              "from                           0\n",
              "confirmations                  0\n",
              "transactionIndex               0\n",
              "blockNumber                    0\n",
              "blockHash                      0\n",
              "value.hex                      0\n",
              "dtype: int64"
            ],
            "text/html": [
              "<div>\n",
              "<style scoped>\n",
              "    .dataframe tbody tr th:only-of-type {\n",
              "        vertical-align: middle;\n",
              "    }\n",
              "\n",
              "    .dataframe tbody tr th {\n",
              "        vertical-align: top;\n",
              "    }\n",
              "\n",
              "    .dataframe thead th {\n",
              "        text-align: right;\n",
              "    }\n",
              "</style>\n",
              "<table border=\"1\" class=\"dataframe\">\n",
              "  <thead>\n",
              "    <tr style=\"text-align: right;\">\n",
              "      <th></th>\n",
              "      <th>0</th>\n",
              "    </tr>\n",
              "  </thead>\n",
              "  <tbody>\n",
              "    <tr>\n",
              "      <th>creates</th>\n",
              "      <td>500</td>\n",
              "    </tr>\n",
              "    <tr>\n",
              "      <th>maxFeePerGas.hex</th>\n",
              "      <td>59</td>\n",
              "    </tr>\n",
              "    <tr>\n",
              "      <th>maxFeePerGas.type</th>\n",
              "      <td>59</td>\n",
              "    </tr>\n",
              "    <tr>\n",
              "      <th>maxPriorityFeePerGas.hex</th>\n",
              "      <td>59</td>\n",
              "    </tr>\n",
              "    <tr>\n",
              "      <th>maxPriorityFeePerGas.type</th>\n",
              "      <td>59</td>\n",
              "    </tr>\n",
              "    <tr>\n",
              "      <th>accessList</th>\n",
              "      <td>52</td>\n",
              "    </tr>\n",
              "    <tr>\n",
              "      <th>hash</th>\n",
              "      <td>0</td>\n",
              "    </tr>\n",
              "    <tr>\n",
              "      <th>value.type</th>\n",
              "      <td>0</td>\n",
              "    </tr>\n",
              "    <tr>\n",
              "      <th>gasLimit.hex</th>\n",
              "      <td>0</td>\n",
              "    </tr>\n",
              "    <tr>\n",
              "      <th>gasLimit.type</th>\n",
              "      <td>0</td>\n",
              "    </tr>\n",
              "    <tr>\n",
              "      <th>gasPrice.hex</th>\n",
              "      <td>0</td>\n",
              "    </tr>\n",
              "    <tr>\n",
              "      <th>gasPrice.type</th>\n",
              "      <td>0</td>\n",
              "    </tr>\n",
              "    <tr>\n",
              "      <th>chainId</th>\n",
              "      <td>0</td>\n",
              "    </tr>\n",
              "    <tr>\n",
              "      <th>v</th>\n",
              "      <td>0</td>\n",
              "    </tr>\n",
              "    <tr>\n",
              "      <th>type</th>\n",
              "      <td>0</td>\n",
              "    </tr>\n",
              "    <tr>\n",
              "      <th>s</th>\n",
              "      <td>0</td>\n",
              "    </tr>\n",
              "    <tr>\n",
              "      <th>r</th>\n",
              "      <td>0</td>\n",
              "    </tr>\n",
              "    <tr>\n",
              "      <th>data</th>\n",
              "      <td>0</td>\n",
              "    </tr>\n",
              "    <tr>\n",
              "      <th>nonce</th>\n",
              "      <td>0</td>\n",
              "    </tr>\n",
              "    <tr>\n",
              "      <th>to</th>\n",
              "      <td>0</td>\n",
              "    </tr>\n",
              "    <tr>\n",
              "      <th>from</th>\n",
              "      <td>0</td>\n",
              "    </tr>\n",
              "    <tr>\n",
              "      <th>confirmations</th>\n",
              "      <td>0</td>\n",
              "    </tr>\n",
              "    <tr>\n",
              "      <th>transactionIndex</th>\n",
              "      <td>0</td>\n",
              "    </tr>\n",
              "    <tr>\n",
              "      <th>blockNumber</th>\n",
              "      <td>0</td>\n",
              "    </tr>\n",
              "    <tr>\n",
              "      <th>blockHash</th>\n",
              "      <td>0</td>\n",
              "    </tr>\n",
              "    <tr>\n",
              "      <th>value.hex</th>\n",
              "      <td>0</td>\n",
              "    </tr>\n",
              "  </tbody>\n",
              "</table>\n",
              "</div><br><label><b>dtype:</b> int64</label>"
            ]
          },
          "metadata": {},
          "execution_count": 11
        }
      ]
    },
    {
      "cell_type": "markdown",
      "source": [
        "# Data Preprocessing"
      ],
      "metadata": {
        "id": "KzHeYRt-tI9w"
      }
    },
    {
      "cell_type": "markdown",
      "source": [
        "Handle Missing Data"
      ],
      "metadata": {
        "id": "t7nIzsAiztUZ"
      }
    },
    {
      "cell_type": "code",
      "source": [
        "# Function to Handle Missing Data\n",
        "\n",
        "def fill_missing_data(df, method='mean', columns=None):\n",
        "    \"\"\"\n",
        "    Fill missing values in a DataFrame using mean, median, or mode.\n",
        "\n",
        "    Parameters:\n",
        "        df (pd.DataFrame): The DataFrame with missing values.\n",
        "        method (str): The method to use for filling missing values ('mean', 'median', 'mode').\n",
        "        columns (list): List of columns to apply the filling. If None, applies to all columns.\n",
        "\n",
        "    Returns:\n",
        "        pd.DataFrame: DataFrame with missing values filled.\n",
        "    \"\"\"\n",
        "    if columns is None:\n",
        "        columns = df.columns  # Apply to all columns if not specified\n",
        "\n",
        "    for col in columns:\n",
        "        if df[col].isnull().any():  # Only process if there are missing values\n",
        "            if method == 'mean':\n",
        "                fill_value = df[col].mean()\n",
        "            elif method == 'median':\n",
        "                fill_value = df[col].median()\n",
        "            elif method == 'mode':\n",
        "                fill_value = df[col].mode()[0]  # Take the first mode if multiple\n",
        "            else:\n",
        "                raise ValueError(\"Method must be 'mean', 'median', or 'mode'\")\n",
        "\n",
        "            # Fill the missing values\n",
        "            df[col] = df[col].fillna(fill_value)\n",
        "\n",
        "    return df"
      ],
      "metadata": {
        "id": "9B3YAz5azs4g"
      },
      "execution_count": null,
      "outputs": []
    },
    {
      "cell_type": "code",
      "source": [
        "# Fill missing values using mode\n",
        "pending_df = fill_missing_data(pending_df, method='mode', columns=['chainId'])\n",
        "pending_df = fill_missing_data(pending_df, method='mode', columns=['maxFeePerGas'])\n",
        "pending_df = fill_missing_data(pending_df, method='mode', columns=['maxPriorityFeePerGas'])\n",
        "\n",
        "mined_df = fill_missing_data(mined_df, method='mode', columns=['maxFeePerGas.type'])\n",
        "mined_df = fill_missing_data(mined_df, method='mode', columns=['maxFeePerGas.hex'])\n",
        "\n",
        "mined_df = fill_missing_data(mined_df, method='mode', columns=['maxPriorityFeePerGas.type'])\n",
        "mined_df = fill_missing_data(mined_df, method='mode', columns=['maxPriorityFeePerGas.hex'])\n",
        "\n",
        "pending_df.isnull().sum().sort_values(ascending=False), mined_df.isnull().sum().sort_values(ascending=False)"
      ],
      "metadata": {
        "colab": {
          "base_uri": "https://localhost:8080/"
        },
        "id": "0r1hNEZt0jU8",
        "outputId": "0c53ddc7-92d9-49d9-d98e-9f07646a30ff"
      },
      "execution_count": null,
      "outputs": [
        {
          "output_type": "execute_result",
          "data": {
            "text/plain": [
              "(transactionIndex        431\n",
              " blockNumber             431\n",
              " blockHash               431\n",
              " maxFeePerBlobGas        429\n",
              " blobVersionedHashes     429\n",
              " yParity                  83\n",
              " accessList               83\n",
              " gasPrice                  0\n",
              " from                      0\n",
              " hash                      0\n",
              " v                         0\n",
              " type                      0\n",
              " chainId                   0\n",
              " r                         0\n",
              " input                     0\n",
              " value                     0\n",
              " to                        0\n",
              " maxPriorityFeePerGas      0\n",
              " maxFeePerGas              0\n",
              " gas                       0\n",
              " nonce                     0\n",
              " s                         0\n",
              " dtype: int64,\n",
              " creates                      500\n",
              " accessList                    52\n",
              " hash                           0\n",
              " value.type                     0\n",
              " gasLimit.hex                   0\n",
              " gasLimit.type                  0\n",
              " maxFeePerGas.hex               0\n",
              " maxFeePerGas.type              0\n",
              " maxPriorityFeePerGas.hex       0\n",
              " maxPriorityFeePerGas.type      0\n",
              " gasPrice.hex                   0\n",
              " gasPrice.type                  0\n",
              " chainId                        0\n",
              " v                              0\n",
              " type                           0\n",
              " s                              0\n",
              " r                              0\n",
              " data                           0\n",
              " nonce                          0\n",
              " to                             0\n",
              " from                           0\n",
              " confirmations                  0\n",
              " transactionIndex               0\n",
              " blockNumber                    0\n",
              " blockHash                      0\n",
              " value.hex                      0\n",
              " dtype: int64)"
            ]
          },
          "metadata": {},
          "execution_count": 13
        }
      ]
    },
    {
      "cell_type": "markdown",
      "source": [
        "Feature Analysis"
      ],
      "metadata": {
        "id": "OBLPGEMEy4NV"
      }
    },
    {
      "cell_type": "code",
      "source": [
        "## Type\n",
        "print(\"pending_transaction_type\",pending_df.type.unique())\n",
        "print(\"mined_transaction_type\",mined_df.type.unique())"
      ],
      "metadata": {
        "id": "Ym8Gr0UZuwiY",
        "colab": {
          "base_uri": "https://localhost:8080/"
        },
        "outputId": "0adcbb20-2f24-40d3-f8e2-132cdcb35649"
      },
      "execution_count": null,
      "outputs": [
        {
          "output_type": "stream",
          "name": "stdout",
          "text": [
            "pending_transaction_type ['0x2' '0x1' '0x0' '0x3']\n",
            "mined_transaction_type [2 0 1 3]\n"
          ]
        }
      ]
    },
    {
      "cell_type": "code",
      "source": [
        "## Chain ID\n",
        "print(\"pending_transaction_chainId\",pending_df.chainId.unique())\n",
        "print(\"mined_transaction_chainId\",mined_df.chainId.unique())"
      ],
      "metadata": {
        "colab": {
          "base_uri": "https://localhost:8080/"
        },
        "id": "4X8gjfOyw4cA",
        "outputId": "56261f09-cca9-4986-ba98-5fe07fe3088a"
      },
      "execution_count": null,
      "outputs": [
        {
          "output_type": "stream",
          "name": "stdout",
          "text": [
            "pending_transaction_chainId ['0x1']\n",
            "mined_transaction_chainId [1]\n"
          ]
        }
      ]
    },
    {
      "cell_type": "code",
      "source": [
        "## nonce\n",
        "print(\"pending_transaction_nonce\",pending_df.nonce.unique()[:5])\n",
        "print(\"mined_transaction_nonce\",mined_df.nonce.unique()[:5])"
      ],
      "metadata": {
        "colab": {
          "base_uri": "https://localhost:8080/"
        },
        "id": "jQmqVDi-y82K",
        "outputId": "51b82212-e814-4e98-91f5-b4dbaff4d2d5"
      },
      "execution_count": null,
      "outputs": [
        {
          "output_type": "stream",
          "name": "stdout",
          "text": [
            "pending_transaction_nonce ['0x0' '0x206345' '0xb' '0x206346' '0x1d']\n",
            "mined_transaction_nonce [152092 241172 293331    295    396]\n"
          ]
        }
      ]
    },
    {
      "cell_type": "code",
      "source": [
        "## maxFeePerGas\n",
        "print(\"\\n pending_transaction_maxFeePerGas\",pending_df.maxFeePerGas.unique()[:5])\n",
        "print(\"\\n mined_transaction_maxFeePerGas_type\",mined_df['maxFeePerGas.type'].unique()[:5])\n",
        "print(\"\\n mined_transaction_maxFeePerGas_hex\",mined_df['maxFeePerGas.hex'].unique()[:5])"
      ],
      "metadata": {
        "colab": {
          "base_uri": "https://localhost:8080/"
        },
        "id": "0QzenD4U5QvJ",
        "outputId": "f00ca35f-6e4f-4418-8e26-16f94a9362c8"
      },
      "execution_count": null,
      "outputs": [
        {
          "output_type": "stream",
          "name": "stdout",
          "text": [
            "\n",
            " pending_transaction_maxFeePerGas ['0x14ed13b30' '0x22d4dad80' '0x17bfac7c00' '0x21eff9180' '0x2dec62d4d']\n",
            "\n",
            " mined_transaction_maxFeePerGas_type ['BigNumber']\n",
            "\n",
            " mined_transaction_maxFeePerGas_hex ['0x0341e5d8dc' '0x0293c772e3' '0x17bfac7c00' '0x01b35af8fe'\n",
            " '0x01b7d6990d']\n"
          ]
        }
      ]
    },
    {
      "cell_type": "code",
      "source": [
        "## accessList\n",
        "print(\"\\n pending_transaction_accessList\",pending_df.accessList.str.len().value_counts(normalize=True))\n",
        "print(\"\\n mined_transaction_accessList\",mined_df.accessList.str.len().value_counts(normalize=True))"
      ],
      "metadata": {
        "colab": {
          "base_uri": "https://localhost:8080/"
        },
        "id": "E00m_sch8iQX",
        "outputId": "7b88f0dd-45be-4dbc-fe7d-19185b877aa4"
      },
      "execution_count": null,
      "outputs": [
        {
          "output_type": "stream",
          "name": "stdout",
          "text": [
            "\n",
            " pending_transaction_accessList accessList\n",
            "0.0    0.994253\n",
            "6.0    0.002874\n",
            "3.0    0.002874\n",
            "Name: proportion, dtype: float64\n",
            "\n",
            " mined_transaction_accessList accessList\n",
            "0.0     0.959821\n",
            "4.0     0.017857\n",
            "3.0     0.006696\n",
            "5.0     0.006696\n",
            "18.0    0.004464\n",
            "35.0    0.002232\n",
            "23.0    0.002232\n",
            "Name: proportion, dtype: float64\n"
          ]
        }
      ]
    },
    {
      "cell_type": "code",
      "source": [
        "pending_df[pending_df.accessList.str.len() == 0.0]['accessList'].value_counts()"
      ],
      "metadata": {
        "colab": {
          "base_uri": "https://localhost:8080/",
          "height": 147
        },
        "id": "p0oILRajFji0",
        "outputId": "e497a310-76fa-4942-b4fd-d69a1ef673fa"
      },
      "execution_count": null,
      "outputs": [
        {
          "output_type": "execute_result",
          "data": {
            "text/plain": [
              "accessList\n",
              "[]    346\n",
              "Name: count, dtype: int64"
            ],
            "text/html": [
              "<div>\n",
              "<style scoped>\n",
              "    .dataframe tbody tr th:only-of-type {\n",
              "        vertical-align: middle;\n",
              "    }\n",
              "\n",
              "    .dataframe tbody tr th {\n",
              "        vertical-align: top;\n",
              "    }\n",
              "\n",
              "    .dataframe thead th {\n",
              "        text-align: right;\n",
              "    }\n",
              "</style>\n",
              "<table border=\"1\" class=\"dataframe\">\n",
              "  <thead>\n",
              "    <tr style=\"text-align: right;\">\n",
              "      <th></th>\n",
              "      <th>count</th>\n",
              "    </tr>\n",
              "    <tr>\n",
              "      <th>accessList</th>\n",
              "      <th></th>\n",
              "    </tr>\n",
              "  </thead>\n",
              "  <tbody>\n",
              "    <tr>\n",
              "      <th>[]</th>\n",
              "      <td>346</td>\n",
              "    </tr>\n",
              "  </tbody>\n",
              "</table>\n",
              "</div><br><label><b>dtype:</b> int64</label>"
            ]
          },
          "metadata": {},
          "execution_count": 19
        }
      ]
    },
    {
      "cell_type": "code",
      "source": [
        "## maxPriorityFeePerGas\n",
        "print(\"\\n pending_transaction_maxPriorityFeePerGas\",pending_df.maxPriorityFeePerGas.unique()[:5])\n",
        "print(\"\\n mined_transaction_maxPriorityFeePerGas_type\",mined_df['maxPriorityFeePerGas.type'].unique()[:5])\n",
        "print(\"\\n mined_transaction_maxPriorityFeePerGas_hex\",mined_df['maxPriorityFeePerGas.hex'].unique()[:5])"
      ],
      "metadata": {
        "colab": {
          "base_uri": "https://localhost:8080/"
        },
        "id": "9d-vvtLfEUA2",
        "outputId": "01a67341-83a4-4940-bc46-38a7a8ce9457"
      },
      "execution_count": null,
      "outputs": [
        {
          "output_type": "stream",
          "name": "stdout",
          "text": [
            "\n",
            " pending_transaction_maxPriorityFeePerGas ['0x14ed13b30' '0x5b8d80' '0x77359400' '0x56f9a0' '0x2faf080']\n",
            "\n",
            " mined_transaction_maxPriorityFeePerGas_type ['BigNumber']\n",
            "\n",
            " mined_transaction_maxPriorityFeePerGas_hex ['0x01e0404fe4' '0x013221e9eb' '0x77359400' '0x01fa45bdc0' '0x47868c00']\n"
          ]
        }
      ]
    },
    {
      "cell_type": "markdown",
      "source": [
        "### Converting Hex to Decimal Values"
      ],
      "metadata": {
        "id": "sOm3Y1d8xTFw"
      }
    },
    {
      "cell_type": "code",
      "source": [
        "# Convert multiple columns\n",
        "def hex_to_decimal(df, columns):\n",
        "    for col in columns:\n",
        "        try:\n",
        "          df[col] = df[col].apply(lambda x: int(x, 16))\n",
        "        except:\n",
        "          print(f\"Error converting column: {col}\")\n",
        "    return df\n",
        "\n",
        "hex_columns = ['type','chainId','nonce','v']\n",
        "pending_df = hex_to_decimal(pending_df, hex_columns)"
      ],
      "metadata": {
        "id": "JBhE09KDxEwd"
      },
      "execution_count": null,
      "outputs": []
    },
    {
      "cell_type": "markdown",
      "source": [
        "#### Rename Features"
      ],
      "metadata": {
        "id": "Q1JO0q116xQ9"
      }
    },
    {
      "cell_type": "code",
      "source": [
        "rename_dict = {'maxFeePerGas.hex': 'maxFeePerGas',\n",
        "               'maxPriorityFeePerGas.hex': 'maxPriorityFeePerGas',\n",
        "               'value.hex': 'value',\n",
        "               'data':'input',\n",
        "               'gasPrice.hex':'gasPrice',\n",
        "               'gasLimit.hex':'gasLimit'}\n",
        "mined_df = mined_df.rename(columns=rename_dict)\n",
        "pending_df = pending_df.rename(columns={'gas':'gasLimit'})"
      ],
      "metadata": {
        "id": "mFv9jikm6wdo"
      },
      "execution_count": null,
      "outputs": []
    },
    {
      "cell_type": "markdown",
      "source": [
        "#### drop columns with high missing data\n",
        "\n",
        "for pending transaction\n",
        "*   transactionIndex, blockHash, blockNumber - 100%\n",
        "*   maxFeePerBlobGas, blobVersionedHashes - 99.53%\n",
        "*   accessList  - 99.43%\n",
        "*   identity\n",
        "\n",
        "for mined transaction\n",
        "*   accessList  - 95.98%\n",
        "*   identity and type data"
      ],
      "metadata": {
        "id": "e32S-MKJLIGg"
      }
    },
    {
      "cell_type": "code",
      "source": [
        "pending_df = pending_df.drop(columns=['yParity','transactionIndex','blockHash','blockNumber','maxFeePerBlobGas','blobVersionedHashes','accessList'], axis=1)\n",
        "mined_df = mined_df.drop(columns=['accessList','creates','gasPrice.type','maxPriorityFeePerGas.type',\n",
        "                                  'maxFeePerGas.type','gasLimit.type','value.type'], axis=1)"
      ],
      "metadata": {
        "id": "lG0ainUKLH1D"
      },
      "execution_count": null,
      "outputs": []
    },
    {
      "cell_type": "code",
      "source": [
        "pending_df.shape"
      ],
      "metadata": {
        "colab": {
          "base_uri": "https://localhost:8080/"
        },
        "id": "0cZv__Q3lfgu",
        "outputId": "f8789fd0-2117-4378-bb22-a6eff4a70330"
      },
      "execution_count": null,
      "outputs": [
        {
          "output_type": "execute_result",
          "data": {
            "text/plain": [
              "(431, 15)"
            ]
          },
          "metadata": {},
          "execution_count": 24
        }
      ]
    },
    {
      "cell_type": "code",
      "source": [
        "mined_df.shape"
      ],
      "metadata": {
        "colab": {
          "base_uri": "https://localhost:8080/"
        },
        "id": "PBzDRGobpTnd",
        "outputId": "ed0b90f3-1e32-47b2-d65f-7519d1c495ee"
      },
      "execution_count": null,
      "outputs": [
        {
          "output_type": "execute_result",
          "data": {
            "text/plain": [
              "(500, 19)"
            ]
          },
          "metadata": {},
          "execution_count": 25
        }
      ]
    },
    {
      "cell_type": "code",
      "source": [
        "print(\"Completeness of pending transaction\",(1 - pending_df.isnull().mean().mean())*100,\"%\")\n",
        "print(\"Completeness of mined transaction\",(1 - mined_df.isnull().mean().mean())*100,\"%\")"
      ],
      "metadata": {
        "colab": {
          "base_uri": "https://localhost:8080/"
        },
        "id": "Oy8Xp_XQMEHr",
        "outputId": "d3c59706-d9bf-4865-f269-7cffa1bcd9c9"
      },
      "execution_count": null,
      "outputs": [
        {
          "output_type": "stream",
          "name": "stdout",
          "text": [
            "Completeness of pending transaction 100.0 %\n",
            "Completeness of mined transaction 100.0 %\n"
          ]
        }
      ]
    },
    {
      "cell_type": "code",
      "source": [
        "# Datatype\n",
        "pending_df.dtypes"
      ],
      "metadata": {
        "colab": {
          "base_uri": "https://localhost:8080/",
          "height": 554
        },
        "id": "Q5qZWdFSOBcg",
        "outputId": "ba94bd4c-7e46-424f-afb8-2e987044f1cb"
      },
      "execution_count": null,
      "outputs": [
        {
          "output_type": "execute_result",
          "data": {
            "text/plain": [
              "type                     int64\n",
              "chainId                  int64\n",
              "nonce                    int64\n",
              "gasLimit                object\n",
              "maxFeePerGas            object\n",
              "maxPriorityFeePerGas    object\n",
              "to                      object\n",
              "value                   object\n",
              "input                   object\n",
              "r                       object\n",
              "s                       object\n",
              "v                        int64\n",
              "hash                    object\n",
              "from                    object\n",
              "gasPrice                object\n",
              "dtype: object"
            ],
            "text/html": [
              "<div>\n",
              "<style scoped>\n",
              "    .dataframe tbody tr th:only-of-type {\n",
              "        vertical-align: middle;\n",
              "    }\n",
              "\n",
              "    .dataframe tbody tr th {\n",
              "        vertical-align: top;\n",
              "    }\n",
              "\n",
              "    .dataframe thead th {\n",
              "        text-align: right;\n",
              "    }\n",
              "</style>\n",
              "<table border=\"1\" class=\"dataframe\">\n",
              "  <thead>\n",
              "    <tr style=\"text-align: right;\">\n",
              "      <th></th>\n",
              "      <th>0</th>\n",
              "    </tr>\n",
              "  </thead>\n",
              "  <tbody>\n",
              "    <tr>\n",
              "      <th>type</th>\n",
              "      <td>int64</td>\n",
              "    </tr>\n",
              "    <tr>\n",
              "      <th>chainId</th>\n",
              "      <td>int64</td>\n",
              "    </tr>\n",
              "    <tr>\n",
              "      <th>nonce</th>\n",
              "      <td>int64</td>\n",
              "    </tr>\n",
              "    <tr>\n",
              "      <th>gasLimit</th>\n",
              "      <td>object</td>\n",
              "    </tr>\n",
              "    <tr>\n",
              "      <th>maxFeePerGas</th>\n",
              "      <td>object</td>\n",
              "    </tr>\n",
              "    <tr>\n",
              "      <th>maxPriorityFeePerGas</th>\n",
              "      <td>object</td>\n",
              "    </tr>\n",
              "    <tr>\n",
              "      <th>to</th>\n",
              "      <td>object</td>\n",
              "    </tr>\n",
              "    <tr>\n",
              "      <th>value</th>\n",
              "      <td>object</td>\n",
              "    </tr>\n",
              "    <tr>\n",
              "      <th>input</th>\n",
              "      <td>object</td>\n",
              "    </tr>\n",
              "    <tr>\n",
              "      <th>r</th>\n",
              "      <td>object</td>\n",
              "    </tr>\n",
              "    <tr>\n",
              "      <th>s</th>\n",
              "      <td>object</td>\n",
              "    </tr>\n",
              "    <tr>\n",
              "      <th>v</th>\n",
              "      <td>int64</td>\n",
              "    </tr>\n",
              "    <tr>\n",
              "      <th>hash</th>\n",
              "      <td>object</td>\n",
              "    </tr>\n",
              "    <tr>\n",
              "      <th>from</th>\n",
              "      <td>object</td>\n",
              "    </tr>\n",
              "    <tr>\n",
              "      <th>gasPrice</th>\n",
              "      <td>object</td>\n",
              "    </tr>\n",
              "  </tbody>\n",
              "</table>\n",
              "</div><br><label><b>dtype:</b> object</label>"
            ]
          },
          "metadata": {},
          "execution_count": 27
        }
      ]
    },
    {
      "cell_type": "code",
      "source": [
        "# Get list of non-numeric column names\n",
        "non_numeric_cols = pending_df.select_dtypes(exclude=['number']).columns.tolist()\n",
        "\n",
        "pending_df = hex_to_decimal(pending_df, non_numeric_cols)\n",
        "\n",
        "non_numeric_cols = mined_df.select_dtypes(exclude=['number']).columns.tolist()\n",
        "\n",
        "mined_df = hex_to_decimal(mined_df, non_numeric_cols)"
      ],
      "metadata": {
        "colab": {
          "base_uri": "https://localhost:8080/"
        },
        "id": "2PeukR6tPHmC",
        "outputId": "fadf3924-273b-4378-b59b-4a0a54e2e39f"
      },
      "execution_count": null,
      "outputs": [
        {
          "output_type": "stream",
          "name": "stdout",
          "text": [
            "Error converting column: input\n",
            "Error converting column: input\n"
          ]
        }
      ]
    },
    {
      "cell_type": "markdown",
      "source": [
        "#### Feature Correlation"
      ],
      "metadata": {
        "id": "UI43z-8pNqhP"
      }
    },
    {
      "cell_type": "code",
      "source": [
        "pending_df.info()"
      ],
      "metadata": {
        "colab": {
          "base_uri": "https://localhost:8080/"
        },
        "id": "PZeV23V9SqCJ",
        "outputId": "633f29e1-a578-42d7-dec0-a76b02ae7cd5"
      },
      "execution_count": null,
      "outputs": [
        {
          "output_type": "stream",
          "name": "stdout",
          "text": [
            "<class 'pandas.core.frame.DataFrame'>\n",
            "RangeIndex: 431 entries, 0 to 430\n",
            "Data columns (total 15 columns):\n",
            " #   Column                Non-Null Count  Dtype \n",
            "---  ------                --------------  ----- \n",
            " 0   type                  431 non-null    int64 \n",
            " 1   chainId               431 non-null    int64 \n",
            " 2   nonce                 431 non-null    int64 \n",
            " 3   gasLimit              431 non-null    int64 \n",
            " 4   maxFeePerGas          431 non-null    int64 \n",
            " 5   maxPriorityFeePerGas  431 non-null    int64 \n",
            " 6   to                    431 non-null    object\n",
            " 7   value                 431 non-null    object\n",
            " 8   input                 431 non-null    object\n",
            " 9   r                     431 non-null    object\n",
            " 10  s                     431 non-null    object\n",
            " 11  v                     431 non-null    int64 \n",
            " 12  hash                  431 non-null    object\n",
            " 13  from                  431 non-null    object\n",
            " 14  gasPrice              431 non-null    int64 \n",
            "dtypes: int64(8), object(7)\n",
            "memory usage: 50.6+ KB\n"
          ]
        }
      ]
    },
    {
      "cell_type": "code",
      "source": [
        "# Compute correlation matrix\n",
        "non_numeric_cols = pending_df.select_dtypes(include=['number']).columns.tolist()\n",
        "\n",
        "correlation_matrix = pending_df[non_numeric_cols].corr()\n",
        "\n",
        "# Create a heatmap\n",
        "plt.figure(figsize=(8, 6))  # Set the size of the plot\n",
        "sns.heatmap(correlation_matrix, annot=True, cmap='coolwarm', center=0)\n",
        "\n",
        "# Add title and show plot\n",
        "plt.title('Correlation Heatmap')\n",
        "plt.show()\n"
      ],
      "metadata": {
        "colab": {
          "base_uri": "https://localhost:8080/",
          "height": 683
        },
        "id": "cc-378IeNp3x",
        "outputId": "9cb5cbd1-f727-4ed9-c131-959692c00823"
      },
      "execution_count": null,
      "outputs": [
        {
          "output_type": "display_data",
          "data": {
            "text/plain": [
              "<Figure size 800x600 with 2 Axes>"
            ],
            "image/png": "[encoded data removed]"
          },
          "metadata": {}
        }
      ]
    },
    {
      "cell_type": "code",
      "source": [
        "# Compute correlation matrix\n",
        "non_numeric_cols = mined_df.select_dtypes(include=['number']).columns.tolist()\n",
        "\n",
        "correlation_matrix = mined_df[non_numeric_cols].corr()\n",
        "\n",
        "# Create a heatmap\n",
        "plt.figure(figsize=(8, 6))  # Set the size of the plot\n",
        "sns.heatmap(correlation_matrix, annot=True, cmap='coolwarm', center=0)\n",
        "\n",
        "# Add title and show plot\n",
        "plt.title('Correlation Heatmap')\n",
        "plt.show()\n"
      ],
      "metadata": {
        "colab": {
          "base_uri": "https://localhost:8080/",
          "height": 683
        },
        "id": "eIN-Qf2LT6CD",
        "outputId": "c2680298-b5a2-49d8-e131-71ba8bf1b598"
      },
      "execution_count": null,
      "outputs": [
        {
          "output_type": "display_data",
          "data": {
            "text/plain": [
              "<Figure size 800x600 with 2 Axes>"
            ],
            "image/png": "[encoded data removed]"
          },
          "metadata": {}
        }
      ]
    },
    {
      "cell_type": "code",
      "source": [
        "pending_df = pending_df.drop(columns=['type','chainId'], axis=1)\n",
        "mined_df = mined_df.drop(columns=['type','confirmations','chainId','transactionIndex'], axis=1)"
      ],
      "metadata": {
        "id": "lbS2i1vaTx_0"
      },
      "execution_count": null,
      "outputs": []
    },
    {
      "cell_type": "code",
      "source": [
        "# Compute correlation matrix\n",
        "non_numeric_cols = pending_df.select_dtypes(include=['number']).columns.tolist()\n",
        "\n",
        "correlation_matrix = pending_df[non_numeric_cols].corr()\n",
        "\n",
        "# Create a heatmap\n",
        "plt.figure(figsize=(8, 6))  # Set the size of the plot\n",
        "sns.heatmap(correlation_matrix, annot=True, cmap='coolwarm', center=0)\n",
        "\n",
        "# Add title and show plot\n",
        "plt.title('Correlation Heatmap')\n",
        "plt.show()\n"
      ],
      "metadata": {
        "colab": {
          "base_uri": "https://localhost:8080/",
          "height": 683
        },
        "id": "DXdIMyGUVgKt",
        "outputId": "c058c55c-721e-4754-ae8b-dce7efd4e7fe"
      },
      "execution_count": null,
      "outputs": [
        {
          "output_type": "display_data",
          "data": {
            "text/plain": [
              "<Figure size 800x600 with 2 Axes>"
            ],
            "image/png": "[encoded data removed]"
          },
          "metadata": {}
        }
      ]
    },
    {
      "cell_type": "code",
      "source": [
        "# Compute correlation matrix\n",
        "non_numeric_cols = mined_df.select_dtypes(include=['number']).columns.tolist()\n",
        "\n",
        "correlation_matrix = mined_df[non_numeric_cols].corr()\n",
        "\n",
        "# Create a heatmap\n",
        "plt.figure(figsize=(8, 6))  # Set the size of the plot\n",
        "sns.heatmap(correlation_matrix, annot=True, cmap='coolwarm', center=0)\n",
        "\n",
        "# Add title and show plot\n",
        "plt.title('Correlation Heatmap')\n",
        "plt.show()\n"
      ],
      "metadata": {
        "colab": {
          "base_uri": "https://localhost:8080/",
          "height": 683
        },
        "id": "1qEEksQDVJNW",
        "outputId": "63573e23-f59f-4754-eeea-87d8a96ac017"
      },
      "execution_count": null,
      "outputs": [
        {
          "output_type": "display_data",
          "data": {
            "text/plain": [
              "<Figure size 800x600 with 2 Axes>"
            ],
            "image/png": "[encoded data removed]"
          },
          "metadata": {}
        }
      ]
    },
    {
      "cell_type": "code",
      "source": [
        "print(\"Dimension of pending transaction after processing\", pending_df.shape)\n",
        "print(\"Dimension of mined transaction after processing\", mined_df.shape)\n"
      ],
      "metadata": {
        "colab": {
          "base_uri": "https://localhost:8080/"
        },
        "id": "UPttxwu-V1ht",
        "outputId": "3a451dea-9eb8-42aa-8d32-837095ae2514"
      },
      "execution_count": null,
      "outputs": [
        {
          "output_type": "stream",
          "name": "stdout",
          "text": [
            "Dimension of pending transaction after processing (431, 13)\n",
            "Dimension of mined transaction after processing (500, 15)\n"
          ]
        }
      ]
    },
    {
      "cell_type": "code",
      "source": [
        "print(\"\\nFeatures of pending transaction after processing\", sorted(pending_df.columns.tolist()))\n",
        "print(\"\\nFeatures of mined transaction after processing\", sorted(mined_df.columns.tolist()))\n"
      ],
      "metadata": {
        "colab": {
          "base_uri": "https://localhost:8080/"
        },
        "id": "9_h7dksBV4mz",
        "outputId": "339cc84b-22b0-451c-846f-724a7be65de6"
      },
      "execution_count": null,
      "outputs": [
        {
          "output_type": "stream",
          "name": "stdout",
          "text": [
            "\n",
            "Features of pending transaction after processing ['from', 'gasLimit', 'gasPrice', 'hash', 'input', 'maxFeePerGas', 'maxPriorityFeePerGas', 'nonce', 'r', 's', 'to', 'v', 'value']\n",
            "\n",
            "Features of mined transaction after processing ['blockHash', 'blockNumber', 'from', 'gasLimit', 'gasPrice', 'hash', 'input', 'maxFeePerGas', 'maxPriorityFeePerGas', 'nonce', 'r', 's', 'to', 'v', 'value']\n"
          ]
        }
      ]
    },
    {
      "cell_type": "code",
      "source": [
        "mined_df.blockNumber.value_counts()"
      ],
      "metadata": {
        "colab": {
          "base_uri": "https://localhost:8080/",
          "height": 272
        },
        "id": "r3a5K7RUWRwx",
        "outputId": "4c4a3c9d-4081-4aa0-e96b-28f0ee4112bc"
      },
      "execution_count": null,
      "outputs": [
        {
          "output_type": "execute_result",
          "data": {
            "text/plain": [
              "blockNumber\n",
              "21719048    100\n",
              "21719049    100\n",
              "21719045    100\n",
              "21719047    100\n",
              "21719046    100\n",
              "Name: count, dtype: int64"
            ],
            "text/html": [
              "<div>\n",
              "<style scoped>\n",
              "    .dataframe tbody tr th:only-of-type {\n",
              "        vertical-align: middle;\n",
              "    }\n",
              "\n",
              "    .dataframe tbody tr th {\n",
              "        vertical-align: top;\n",
              "    }\n",
              "\n",
              "    .dataframe thead th {\n",
              "        text-align: right;\n",
              "    }\n",
              "</style>\n",
              "<table border=\"1\" class=\"dataframe\">\n",
              "  <thead>\n",
              "    <tr style=\"text-align: right;\">\n",
              "      <th></th>\n",
              "      <th>count</th>\n",
              "    </tr>\n",
              "    <tr>\n",
              "      <th>blockNumber</th>\n",
              "      <th></th>\n",
              "    </tr>\n",
              "  </thead>\n",
              "  <tbody>\n",
              "    <tr>\n",
              "      <th>21719048</th>\n",
              "      <td>100</td>\n",
              "    </tr>\n",
              "    <tr>\n",
              "      <th>21719049</th>\n",
              "      <td>100</td>\n",
              "    </tr>\n",
              "    <tr>\n",
              "      <th>21719045</th>\n",
              "      <td>100</td>\n",
              "    </tr>\n",
              "    <tr>\n",
              "      <th>21719047</th>\n",
              "      <td>100</td>\n",
              "    </tr>\n",
              "    <tr>\n",
              "      <th>21719046</th>\n",
              "      <td>100</td>\n",
              "    </tr>\n",
              "  </tbody>\n",
              "</table>\n",
              "</div><br><label><b>dtype:</b> int64</label>"
            ]
          },
          "metadata": {},
          "execution_count": 37
        }
      ]
    },
    {
      "cell_type": "code",
      "source": [
        "mined_df.blockHash.value_counts()"
      ],
      "metadata": {
        "colab": {
          "base_uri": "https://localhost:8080/",
          "height": 272
        },
        "id": "8UD8nQ5vXbqX",
        "outputId": "9e0177a8-eea1-4313-8119-2d00829cfe28"
      },
      "execution_count": null,
      "outputs": [
        {
          "output_type": "execute_result",
          "data": {
            "text/plain": [
              "blockHash\n",
              "11447697045443019176186427046215369344055863338210362310518887349932398416418     100\n",
              "114770410601702510360663869975552357473131214056172750284157268627557916638510    100\n",
              "67050486949017265578707774279161031160448950045794703897873531442463797466643     100\n",
              "103427276443621105974845418051859761367201791078987321390483010322357264893167    100\n",
              "108369768488706319113491264505921407893458445886077084694193378361950548323886    100\n",
              "Name: count, dtype: int64"
            ],
            "text/html": [
              "<div>\n",
              "<style scoped>\n",
              "    .dataframe tbody tr th:only-of-type {\n",
              "        vertical-align: middle;\n",
              "    }\n",
              "\n",
              "    .dataframe tbody tr th {\n",
              "        vertical-align: top;\n",
              "    }\n",
              "\n",
              "    .dataframe thead th {\n",
              "        text-align: right;\n",
              "    }\n",
              "</style>\n",
              "<table border=\"1\" class=\"dataframe\">\n",
              "  <thead>\n",
              "    <tr style=\"text-align: right;\">\n",
              "      <th></th>\n",
              "      <th>count</th>\n",
              "    </tr>\n",
              "    <tr>\n",
              "      <th>blockHash</th>\n",
              "      <th></th>\n",
              "    </tr>\n",
              "  </thead>\n",
              "  <tbody>\n",
              "    <tr>\n",
              "      <th>11447697045443019176186427046215369344055863338210362310518887349932398416418</th>\n",
              "      <td>100</td>\n",
              "    </tr>\n",
              "    <tr>\n",
              "      <th>114770410601702510360663869975552357473131214056172750284157268627557916638510</th>\n",
              "      <td>100</td>\n",
              "    </tr>\n",
              "    <tr>\n",
              "      <th>67050486949017265578707774279161031160448950045794703897873531442463797466643</th>\n",
              "      <td>100</td>\n",
              "    </tr>\n",
              "    <tr>\n",
              "      <th>103427276443621105974845418051859761367201791078987321390483010322357264893167</th>\n",
              "      <td>100</td>\n",
              "    </tr>\n",
              "    <tr>\n",
              "      <th>108369768488706319113491264505921407893458445886077084694193378361950548323886</th>\n",
              "      <td>100</td>\n",
              "    </tr>\n",
              "  </tbody>\n",
              "</table>\n",
              "</div><br><label><b>dtype:</b> int64</label>"
            ]
          },
          "metadata": {},
          "execution_count": 38
        }
      ]
    },
    {
      "cell_type": "code",
      "source": [
        "mined_df = mined_df.drop(columns=['blockHash'], axis=1)"
      ],
      "metadata": {
        "id": "I0RLngXpYzTy"
      },
      "execution_count": null,
      "outputs": []
    },
    {
      "cell_type": "code",
      "source": [
        "pending_df.to_csv(\"processed_pending_df.csv\",index=False)\n",
        "mined_df.to_csv(\"processed_mined_df.csv\",index=False)"
      ],
      "metadata": {
        "id": "E94I_hnWaXXZ"
      },
      "execution_count": null,
      "outputs": []
    }
  ]
}