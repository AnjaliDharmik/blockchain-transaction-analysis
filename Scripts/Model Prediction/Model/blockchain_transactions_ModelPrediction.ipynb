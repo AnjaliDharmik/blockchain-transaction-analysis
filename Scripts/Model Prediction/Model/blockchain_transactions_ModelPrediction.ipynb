{
  "nbformat": 4,
  "nbformat_minor": 0,
  "metadata": {
    "colab": {
      "provenance": []
    },
    "kernelspec": {
      "name": "python3",
      "display_name": "Python 3"
    },
    "language_info": {
      "name": "python"
    }
  },
  "cells": [
    {
      "cell_type": "code",
      "source": [
        "!pip install torch_geometric\n",
        "!pip install scikit-optimize"
      ],
      "metadata": {
        "colab": {
          "base_uri": "https://localhost:8080/"
        },
        "id": "T8bs613QHEwo",
        "outputId": "300efd9c-2039-42c8-a5f5-2409753f76b1"
      },
      "execution_count": 1,
      "outputs": [
        {
          "output_type": "stream",
          "name": "stdout",
          "text": [
            "Requirement already satisfied: torch_geometric in /usr/local/lib/python3.11/dist-packages (2.6.1)\n",
            "Requirement already satisfied: aiohttp in /usr/local/lib/python3.11/dist-packages (from torch_geometric) (3.11.12)\n",
            "Requirement already satisfied: fsspec in /usr/local/lib/python3.11/dist-packages (from torch_geometric) (2024.10.0)\n",
            "Requirement already satisfied: jinja2 in /usr/local/lib/python3.11/dist-packages (from torch_geometric) (3.1.5)\n",
            "Requirement already satisfied: numpy in /usr/local/lib/python3.11/dist-packages (from torch_geometric) (1.26.4)\n",
            "Requirement already satisfied: psutil>=5.8.0 in /usr/local/lib/python3.11/dist-packages (from torch_geometric) (5.9.5)\n",
            "Requirement already satisfied: pyparsing in /usr/local/lib/python3.11/dist-packages (from torch_geometric) (3.2.1)\n",
            "Requirement already satisfied: requests in /usr/local/lib/python3.11/dist-packages (from torch_geometric) (2.32.3)\n",
            "Requirement already satisfied: tqdm in /usr/local/lib/python3.11/dist-packages (from torch_geometric) (4.67.1)\n",
            "Requirement already satisfied: aiohappyeyeballs>=2.3.0 in /usr/local/lib/python3.11/dist-packages (from aiohttp->torch_geometric) (2.4.4)\n",
            "Requirement already satisfied: aiosignal>=1.1.2 in /usr/local/lib/python3.11/dist-packages (from aiohttp->torch_geometric) (1.3.2)\n",
            "Requirement already satisfied: attrs>=17.3.0 in /usr/local/lib/python3.11/dist-packages (from aiohttp->torch_geometric) (25.1.0)\n",
            "Requirement already satisfied: frozenlist>=1.1.1 in /usr/local/lib/python3.11/dist-packages (from aiohttp->torch_geometric) (1.5.0)\n",
            "Requirement already satisfied: multidict<7.0,>=4.5 in /usr/local/lib/python3.11/dist-packages (from aiohttp->torch_geometric) (6.1.0)\n",
            "Requirement already satisfied: propcache>=0.2.0 in /usr/local/lib/python3.11/dist-packages (from aiohttp->torch_geometric) (0.2.1)\n",
            "Requirement already satisfied: yarl<2.0,>=1.17.0 in /usr/local/lib/python3.11/dist-packages (from aiohttp->torch_geometric) (1.18.3)\n",
            "Requirement already satisfied: MarkupSafe>=2.0 in /usr/local/lib/python3.11/dist-packages (from jinja2->torch_geometric) (3.0.2)\n",
            "Requirement already satisfied: charset-normalizer<4,>=2 in /usr/local/lib/python3.11/dist-packages (from requests->torch_geometric) (3.4.1)\n",
            "Requirement already satisfied: idna<4,>=2.5 in /usr/local/lib/python3.11/dist-packages (from requests->torch_geometric) (3.10)\n",
            "Requirement already satisfied: urllib3<3,>=1.21.1 in /usr/local/lib/python3.11/dist-packages (from requests->torch_geometric) (2.3.0)\n",
            "Requirement already satisfied: certifi>=2017.4.17 in /usr/local/lib/python3.11/dist-packages (from requests->torch_geometric) (2025.1.31)\n",
            "Requirement already satisfied: scikit-optimize in /usr/local/lib/python3.11/dist-packages (0.10.2)\n",
            "Requirement already satisfied: joblib>=0.11 in /usr/local/lib/python3.11/dist-packages (from scikit-optimize) (1.4.2)\n",
            "Requirement already satisfied: pyaml>=16.9 in /usr/local/lib/python3.11/dist-packages (from scikit-optimize) (25.1.0)\n",
            "Requirement already satisfied: numpy>=1.20.3 in /usr/local/lib/python3.11/dist-packages (from scikit-optimize) (1.26.4)\n",
            "Requirement already satisfied: scipy>=1.1.0 in /usr/local/lib/python3.11/dist-packages (from scikit-optimize) (1.13.1)\n",
            "Requirement already satisfied: scikit-learn>=1.0.0 in /usr/local/lib/python3.11/dist-packages (from scikit-optimize) (1.6.1)\n",
            "Requirement already satisfied: packaging>=21.3 in /usr/local/lib/python3.11/dist-packages (from scikit-optimize) (24.2)\n",
            "Requirement already satisfied: PyYAML in /usr/local/lib/python3.11/dist-packages (from pyaml>=16.9->scikit-optimize) (6.0.2)\n",
            "Requirement already satisfied: threadpoolctl>=3.1.0 in /usr/local/lib/python3.11/dist-packages (from scikit-learn>=1.0.0->scikit-optimize) (3.5.0)\n"
          ]
        }
      ]
    },
    {
      "cell_type": "code",
      "source": [
        "import numpy as np\n",
        "import pandas as pd\n",
        "import torch\n",
        "import torch.nn as nn\n",
        "import torch.optim as optim\n",
        "from torch_geometric.data import Data as GeoData\n",
        "from torch_geometric.nn import GCNConv\n",
        "import torch.nn.functional as F\n",
        "\n",
        "import joblib,os\n",
        "\n",
        "from sklearn.preprocessing import StandardScaler"
      ],
      "metadata": {
        "id": "lPHhC5B6J018"
      },
      "execution_count": 2,
      "outputs": []
    },
    {
      "cell_type": "code",
      "source": [
        "class GCN(nn.Module):\n",
        "    def __init__(self, input_dim, hidden_dim, output_dim, dropout_rate):\n",
        "        super(GCN, self).__init__()\n",
        "        self.conv1 = GCNConv(input_dim, hidden_dim)\n",
        "        self.conv2 = GCNConv(hidden_dim, output_dim)\n",
        "        self.dropout = nn.Dropout(p=dropout_rate)\n",
        "\n",
        "    def forward(self, data):\n",
        "        x, edge_index = data.x, data.edge_index\n",
        "        x = self.conv1(x, edge_index)\n",
        "        x = F.relu(x)\n",
        "        x = self.dropout(x)\n",
        "        x = self.conv2(x, edge_index)\n",
        "        return F.log_softmax(x, dim=1)"
      ],
      "metadata": {
        "id": "P7jaP5lGJy7e"
      },
      "execution_count": 3,
      "outputs": []
    },
    {
      "cell_type": "code",
      "source": [
        "def transaction_preprocessing(df):\n",
        "    # # Encode addresses and function signatures\n",
        "    # # Create a single list of unique addresses from both 'from' and 'to' columns\n",
        "    # all_addresses = pd.concat([df['from'], df['to']]).unique()\n",
        "\n",
        "    # label_encoder = LabelEncoder()\n",
        "    # # Fit the LabelEncoder on all unique addresses\n",
        "    # label_encoder.fit(all_addresses)\n",
        "\n",
        "    # df['from_id'] = label_encoder.fit_transform(df['from'])\n",
        "    # df['to_id'] = label_encoder.transform(df['to'])\n",
        "\n",
        "    # # Function Signature Extraction:\n",
        "    # df['function_signature'] = df['input'].str.strip().replace('0x','0').apply(lambda x: x[:16] if len(x) >= 10 else x)\n",
        "    # df['function_signature'] = label_encoder.fit_transform(df['function_signature'])\n",
        "\n",
        "\n",
        "    # Function Signature Extraction:\n",
        "    df['function_signature'] = df['input'].str.strip().replace('0x','0').apply(lambda x: x[:16] if len(x) >= 10 else x)\n",
        "    df['function_signature'] = df['function_signature'].apply(lambda x: int(x, 16))\n",
        "\n",
        "    # Contract Interaction Flag:\n",
        "    df['is_contract_interaction'] = df['input'].apply(lambda x: 1 if x != '0x' else 0)\n",
        "\n",
        "    # Input Length\n",
        "    df['input_length'] = df['input'].apply(len)\n",
        "\n",
        "    #Limit the length of the hex string to avoid overflow\n",
        "    df['input'] = df['input'].str.strip().replace('0x','0').apply(lambda x: x[:16] if len(x) >= 18 else x)\n",
        "    df['input'] = df['input'].apply(lambda x: int(x, 16))\n",
        "\n",
        "    # Convert the string to a numeric type\n",
        "    df['from'] = df['from'].astype(float)\n",
        "    df['to'] = df['to'].astype(float)\n",
        "    df['hash'] = df['hash'].astype(float)\n",
        "    df['r'] = df['r'].astype(float)\n",
        "    df['s'] = df['s'].astype(float)\n",
        "    df['value'] = df['value'].astype(float)\n",
        "\n",
        "    # drop duplicated\n",
        "    df = df.drop_duplicates()\n",
        "\n",
        "    return df"
      ],
      "metadata": {
        "id": "Gmxpmn6cTyyw"
      },
      "execution_count": 4,
      "outputs": []
    },
    {
      "cell_type": "code",
      "source": [
        "# Function to predict new data\n",
        "def predict_new_data(new_data,MODEL_PATH=\"\"):\n",
        "\n",
        "\n",
        "    # Load the label encoder\n",
        "    label_encoder = joblib.load(os.path.join(os.getcwd(),'label_encoder.pkl'))\n",
        "    scaler = StandardScaler()\n",
        "\n",
        "    # 1. Create an instance of your GCN model\n",
        "    # Use the output_dim from the saved model (5 in this case)\n",
        "    input_dim = 16\n",
        "    hidden_dim = 128\n",
        "    output_dim = 5  # Adjusted to match the saved model\n",
        "    dropout_rate = 0.3\n",
        "    model = GCN(input_dim, hidden_dim, output_dim, dropout_rate)\n",
        "\n",
        "    # 2. Load the state dictionary into the model instance\n",
        "    model.load_state_dict(torch.load(os.path.join(os.getcwd(),'final_gcn_model.pth')))\n",
        "    model.eval()  # Set the model to evaluation mode\n",
        "\n",
        "    # Preprocess new data\n",
        "    new_data_processed = transaction_preprocessing(new_data)\n",
        "    new_data_scaled = scaler.fit_transform(new_data_processed)\n",
        "    node_features_new = torch.tensor(new_data_scaled, dtype=torch.float)\n",
        "\n",
        "    # representing node IDs:\n",
        "    unique_nodes = pd.concat([new_data_processed['from'], new_data_processed['to']]).unique()\n",
        "    node_to_index = {node: index for index, node in enumerate(unique_nodes)}\n",
        "\n",
        "    # Map 'from' and 'to' to their corresponding indices\n",
        "    from_indices_new = new_data_processed['from'].map(node_to_index).fillna(-1).astype(int).values\n",
        "    to_indices_new = new_data_processed['to'].map(node_to_index).fillna(-1).astype(int).values\n",
        "\n",
        "    # Filter out invalid edges\n",
        "    valid_edges_mask = (from_indices_new >= 0) & (to_indices_new >= 0)\n",
        "    from_indices_new = from_indices_new[valid_edges_mask]\n",
        "    to_indices_new = to_indices_new[valid_edges_mask]\n",
        "\n",
        "    # Ensure node indices are within the valid range\n",
        "    from_indices_new = np.clip(from_indices_new, 0, node_features_new.shape[0] - 1)\n",
        "    to_indices_new = np.clip(to_indices_new, 0, node_features_new.shape[0] - 1)\n",
        "\n",
        "    edge_index_new = torch.tensor([from_indices_new, to_indices_new], dtype=torch.long)\n",
        "    data_new = GeoData(x=node_features_new, edge_index=edge_index_new)\n",
        "\n",
        "    with torch.no_grad():\n",
        "        output_new = model(data_new)  # Now 'model' is callable\n",
        "        predictions_encoded = torch.argmax(output_new, dim=1).numpy()\n",
        "\n",
        "    # Convert encoded predictions back to original labels\n",
        "    original_predictions = label_encoder.inverse_transform(predictions_encoded)\n",
        "\n",
        "\n",
        "    return new_data_processed, original_predictions"
      ],
      "metadata": {
        "id": "_8yP3zSxJOoa"
      },
      "execution_count": 5,
      "outputs": []
    },
    {
      "cell_type": "code",
      "source": [
        "# Example usage for new data\n",
        "new_batch = pd.read_csv(\"processed_pending_df.csv\")\n",
        "\n",
        "new_data_processed, new_predictions = predict_new_data(new_batch)\n",
        "\n",
        "# Combine original features with predictions\n",
        "output_df = new_data_processed.copy()\n",
        "output_df['Predicted_BlockNumber'] = new_predictions\n",
        "\n",
        "# Save combined data to CSV\n",
        "output_df.to_csv('predicted_blocks_with_features.csv', index=False)\n",
        "\n",
        "print(\"Predictions with features saved to 'predicted_blocks_with_features.csv'\")\n"
      ],
      "metadata": {
        "colab": {
          "base_uri": "https://localhost:8080/"
        },
        "id": "tSnot3bkGyiW",
        "outputId": "286a9e97-26fc-44d9-8468-26122d2ed491"
      },
      "execution_count": 6,
      "outputs": [
        {
          "output_type": "stream",
          "name": "stdout",
          "text": [
            "Predictions with features saved to 'predicted_blocks_with_features.csv'\n"
          ]
        },
        {
          "output_type": "stream",
          "name": "stderr",
          "text": [
            "<ipython-input-5-507c812101de>:18: FutureWarning: You are using `torch.load` with `weights_only=False` (the current default value), which uses the default pickle module implicitly. It is possible to construct malicious pickle data which will execute arbitrary code during unpickling (See https://github.com/pytorch/pytorch/blob/main/SECURITY.md#untrusted-models for more details). In a future release, the default value for `weights_only` will be flipped to `True`. This limits the functions that could be executed during unpickling. Arbitrary objects will no longer be allowed to be loaded via this mode unless they are explicitly allowlisted by the user via `torch.serialization.add_safe_globals`. We recommend you start setting `weights_only=True` for any use case where you don't have full control of the loaded file. Please open an issue on GitHub for any issues related to this experimental feature.\n",
            "  model.load_state_dict(torch.load(os.path.join(os.getcwd(),'final_gcn_model.pth')))\n",
            "<ipython-input-5-507c812101de>:43: UserWarning: Creating a tensor from a list of numpy.ndarrays is extremely slow. Please consider converting the list to a single numpy.ndarray with numpy.array() before converting to a tensor. (Triggered internally at ../torch/csrc/utils/tensor_new.cpp:278.)\n",
            "  edge_index_new = torch.tensor([from_indices_new, to_indices_new], dtype=torch.long)\n"
          ]
        }
      ]
    },
    {
      "cell_type": "code",
      "source": [
        "output_df.shape"
      ],
      "metadata": {
        "colab": {
          "base_uri": "https://localhost:8080/"
        },
        "id": "iYiV5HsOJ11V",
        "outputId": "5eb985d8-85d4-4b31-9213-d78f21410323"
      },
      "execution_count": 7,
      "outputs": [
        {
          "output_type": "execute_result",
          "data": {
            "text/plain": [
              "(429, 17)"
            ]
          },
          "metadata": {},
          "execution_count": 7
        }
      ]
    },
    {
      "cell_type": "code",
      "source": [
        "output_df.Predicted_BlockNumber.value_counts().plot(kind='barh', figsize=(10, 6),xlabel='Number of Transactions')"
      ],
      "metadata": {
        "colab": {
          "base_uri": "https://localhost:8080/",
          "height": 559
        },
        "id": "jHz45osYU5Cf",
        "outputId": "73612853-bc7a-41ff-eaaf-8a1bfdcb2228"
      },
      "execution_count": 8,
      "outputs": [
        {
          "output_type": "execute_result",
          "data": {
            "text/plain": [
              "<Axes: xlabel='Number of Transactions', ylabel='Predicted_BlockNumber'>"
            ]
          },
          "metadata": {},
          "execution_count": 8
        },
        {
          "output_type": "display_data",
          "data": {
            "text/plain": [
              "<Figure size 1000x600 with 1 Axes>"
            ],
            "image/png": "[encoded data removed]"
          },
          "metadata": {}
        }
      ]
    },
    {
      "cell_type": "code",
      "source": [],
      "metadata": {
        "id": "jwYKCuAgV9hV"
      },
      "execution_count": 8,
      "outputs": []
    }
  ]
}